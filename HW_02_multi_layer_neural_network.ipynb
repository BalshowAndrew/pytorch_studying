{
 "cells": [
  {
   "cell_type": "markdown",
   "id": "e0da5ae6",
   "metadata": {},
   "source": [
    "# Домашнее задание по теме \"Многослойная нейронная сеть\""
   ]
  },
  {
   "cell_type": "markdown",
   "id": "b66527ae",
   "metadata": {},
   "source": [
    "## Заданиие"
   ]
  },
  {
   "cell_type": "markdown",
   "id": "40eb88b8",
   "metadata": {},
   "source": [
    "Постройте модель на основе полносвязных слоёв для классификации Fashion MNIST из библиотеки torchvision ([datasets](https://pytorch.org/vision/stable/datasets.html)).\n",
    "Получите качество на тестовой выборке **не ниже 88%**\n",
    "\n",
    "**Инструкция по выполнению задания**\n",
    "\n",
    "- Скачайте тренировочную и тестовою часть датасета Fashion MNIST\n",
    "- Постройте модель, выбрав стартовую архитектуру\n",
    "- Обучите модель и сверьте качество на тестовой части с заданным порогом\n",
    "- Изменяйте архитектуру модели пока качество на тестовой части не будет выше порога. Вариации архитектуры можно реализовать через изменение количества слоёв, количества нейронов в слоях и использование регуляризации. Можно использовать различные оптимизаторы."
   ]
  },
  {
   "cell_type": "markdown",
   "id": "3e99c00c",
   "metadata": {},
   "source": [
    "## Решение"
   ]
  },
  {
   "cell_type": "markdown",
   "id": "a62f1e9e",
   "metadata": {},
   "source": [
    "### Загрузка датасета"
   ]
  },
  {
   "cell_type": "code",
   "execution_count": 33,
   "id": "086adffa",
   "metadata": {},
   "outputs": [],
   "source": [
    "import torch\n",
    "import torchvision as tv\n",
    "from torchsummary import summary\n",
    "import numpy as np\n",
    "import time\n",
    "import matplotlib.pyplot as plt"
   ]
  },
  {
   "cell_type": "code",
   "execution_count": 13,
   "id": "21473b3b",
   "metadata": {},
   "outputs": [],
   "source": [
    "train_dataset = tv.datasets.FashionMNIST('./datas', train=True, transform=tv.transforms.ToTensor(), download=True)\n",
    "test_dataset = tv.datasets.FashionMNIST('./datas', train=False, transform=tv.transforms.ToTensor(), download=True)"
   ]
  },
  {
   "cell_type": "code",
   "execution_count": 4,
   "id": "41ca92f6",
   "metadata": {},
   "outputs": [
    {
     "data": {
      "text/plain": [
       "Dataset FashionMNIST\n",
       "    Number of datapoints: 60000\n",
       "    Root location: ./datas\n",
       "    Split: Train\n",
       "    StandardTransform\n",
       "Transform: ToTensor()"
      ]
     },
     "execution_count": 4,
     "metadata": {},
     "output_type": "execute_result"
    }
   ],
   "source": [
    "train_dataset"
   ]
  },
  {
   "cell_type": "code",
   "execution_count": 5,
   "id": "14c5a27e",
   "metadata": {},
   "outputs": [
    {
     "data": {
      "text/plain": [
       "Dataset FashionMNIST\n",
       "    Number of datapoints: 10000\n",
       "    Root location: ./datas\n",
       "    Split: Test\n",
       "    StandardTransform\n",
       "Transform: ToTensor()"
      ]
     },
     "execution_count": 5,
     "metadata": {},
     "output_type": "execute_result"
    }
   ],
   "source": [
    "test_dataset"
   ]
  },
  {
   "cell_type": "code",
   "execution_count": 50,
   "id": "91a6a07a",
   "metadata": {},
   "outputs": [
    {
     "data": {
      "text/plain": [
       "torch.Size([1, 28, 28])"
      ]
     },
     "execution_count": 50,
     "metadata": {},
     "output_type": "execute_result"
    }
   ],
   "source": [
    "train_dataset[0][0].shape"
   ]
  },
  {
   "cell_type": "markdown",
   "id": "5b92d1b8",
   "metadata": {},
   "source": [
    "Посмотрим, что это за картинки:"
   ]
  },
  {
   "cell_type": "code",
   "execution_count": 44,
   "id": "fa7e5f9f",
   "metadata": {},
   "outputs": [
    {
     "data": {
      "text/plain": [
       "<matplotlib.image.AxesImage at 0x7fb8a10c9a80>"
      ]
     },
     "execution_count": 44,
     "metadata": {},
     "output_type": "execute_result"
    },
    {
     "data": {
      "image/png": "[encoded data removed]",
      "text/plain": [
       "<Figure size 640x480 with 1 Axes>"
      ]
     },
     "metadata": {},
     "output_type": "display_data"
    }
   ],
   "source": [
    "plt.imshow(train_dataset[100][0].numpy().reshape(28, 28), cmap='gray')"
   ]
  },
  {
   "cell_type": "code",
   "execution_count": null,
   "id": "14523f0d",
   "metadata": {},
   "outputs": [],
   "source": [
    "BATCH_SIZE = 256"
   ]
  },
  {
   "cell_type": "code",
   "execution_count": 8,
   "id": "ccd58057",
   "metadata": {},
   "outputs": [],
   "source": [
    "train_iter = torch.utils.data.DataLoader(train_dataset, batch_size=BATCH_SIZE)\n",
    "test_iter = torch.utils.data.DataLoader(test_dataset, batch_size=BATCH_SIZE)"
   ]
  },
  {
   "cell_type": "markdown",
   "id": "e68244fc",
   "metadata": {},
   "source": [
    "### Построение модели"
   ]
  },
  {
   "cell_type": "code",
   "execution_count": 10,
   "id": "f3642dd7",
   "metadata": {},
   "outputs": [],
   "source": [
    "model = torch.nn.Sequential(\n",
    "    torch.nn.Flatten(),\n",
    "    torch.nn.Linear(784, 256),\n",
    "    torch.nn.ReLU(),\n",
    "    torch.nn.Linear(256, 10)\n",
    ")"
   ]
  },
  {
   "cell_type": "code",
   "execution_count": 11,
   "id": "a7e209a0",
   "metadata": {},
   "outputs": [
    {
     "data": {
      "text/plain": [
       "Sequential(\n",
       "  (0): Flatten(start_dim=1, end_dim=-1)\n",
       "  (1): Linear(in_features=784, out_features=256, bias=True)\n",
       "  (2): ReLU()\n",
       "  (3): Linear(in_features=256, out_features=10, bias=True)\n",
       ")"
      ]
     },
     "execution_count": 11,
     "metadata": {},
     "output_type": "execute_result"
    }
   ],
   "source": [
    "model"
   ]
  },
  {
   "cell_type": "code",
   "execution_count": 15,
   "id": "fcafa760",
   "metadata": {},
   "outputs": [
    {
     "name": "stdout",
     "output_type": "stream",
     "text": [
      "----------------------------------------------------------------\n",
      "        Layer (type)               Output Shape         Param #\n",
      "================================================================\n",
      "           Flatten-1                  [-1, 784]               0\n",
      "            Linear-2                  [-1, 256]         200,960\n",
      "              ReLU-3                  [-1, 256]               0\n",
      "            Linear-4                   [-1, 10]           2,570\n",
      "================================================================\n",
      "Total params: 203,530\n",
      "Trainable params: 203,530\n",
      "Non-trainable params: 0\n",
      "----------------------------------------------------------------\n",
      "Input size (MB): 0.00\n",
      "Forward/backward pass size (MB): 0.01\n",
      "Params size (MB): 0.78\n",
      "Estimated Total Size (MB): 0.79\n",
      "----------------------------------------------------------------\n"
     ]
    }
   ],
   "source": [
    "summary(model, input_size=(1, 28, 28), device='cpu')"
   ]
  },
  {
   "cell_type": "markdown",
   "id": "115c4494",
   "metadata": {},
   "source": [
    "### Обучение модели"
   ]
  },
  {
   "cell_type": "markdown",
   "id": "93ac3f28",
   "metadata": {},
   "source": [
    "#### Вспомогательные функции"
   ]
  },
  {
   "cell_type": "markdown",
   "id": "4396d6d8",
   "metadata": {},
   "source": [
    "Функция для оценки качества работы модели"
   ]
  },
  {
   "cell_type": "code",
   "execution_count": 19,
   "id": "5627ddfe",
   "metadata": {},
   "outputs": [],
   "source": [
    "def evaluate_accuracy(data_iter, net):\n",
    "    acc_sum, n = torch.Tensor([0]), 0\n",
    "    for X, y in data_iter:\n",
    "        acc_sum +=(net(X).argmax(axis=1) == y).sum()\n",
    "        n += y.shape[0]\n",
    "    return acc_sum.item() / n    "
   ]
  },
  {
   "cell_type": "markdown",
   "id": "3ae0e0db",
   "metadata": {},
   "source": [
    "Функция обечения модели"
   ]
  },
  {
   "cell_type": "code",
   "execution_count": null,
   "id": "8f3b0875",
   "metadata": {},
   "outputs": [],
   "source": [
    "def train(net, train_iter, test_iter, optimizer, num_epochs):\n",
    "    loss = torch.nn.CrossEntropyLoss()\n",
    "\n",
    "    for epoch in range(num_epochs):\n",
    "        train_l_sum, train_acc_sum, n, start = 0.0, 0.0, 0, time.time()\n",
    "\n",
    "        for X, y in train_iter:\n",
    "            optimizer.zero_grad()\n",
    "            y_hat = net(X)\n",
    "            l = loss(y_hat, y)\n",
    "            l.backward()\n",
    "            optimizer.step()\n",
    "            train_l_sum += l.item()\n",
    "            train_acc_sum += (y_hat.argmax(axis=1) == y).sum().item()\n",
    "            n += y.shape[0]\n",
    "\n",
    "        test_acc = evaluate_accuracy(test_iter, net)\n",
    "        print(f\"epoch {epoch + 1}, loss {train_l_sum / n:.4f}, train acc {train_acc_sum / n:.3f}\" \\\n",
    "              f\", test acc {test_acc:.3f}, time {time.time() - start:.1f} sec\")    \n"
   ]
  },
  {
   "cell_type": "markdown",
   "id": "094cebb9",
   "metadata": {},
   "source": [
    "#### Обучение model_v_0"
   ]
  },
  {
   "cell_type": "markdown",
   "id": "30ddb57c",
   "metadata": {},
   "source": [
    "Гиперпараметры"
   ]
  },
  {
   "cell_type": "code",
   "execution_count": 22,
   "id": "5a8388fb",
   "metadata": {},
   "outputs": [],
   "source": [
    "lr, num_epochs = .01, 10\n",
    "optimizer = torch.optim.SGD(model.parameters(), lr=lr)"
   ]
  },
  {
   "cell_type": "code",
   "execution_count": 23,
   "id": "9ff50c78",
   "metadata": {},
   "outputs": [
    {
     "name": "stdout",
     "output_type": "stream",
     "text": [
      "epoch 1, loss 0.0069, train acc 0.559, test acc 0.648, time 16.9 sec\n",
      "epoch 2, loss 0.0042, train acc 0.668, test acc 0.672, time 15.4 sec\n",
      "epoch 3, loss 0.0034, train acc 0.700, test acc 0.704, time 16.4 sec\n",
      "epoch 4, loss 0.0030, train acc 0.734, test acc 0.734, time 15.7 sec\n",
      "epoch 5, loss 0.0028, train acc 0.757, test acc 0.754, time 16.2 sec\n",
      "epoch 6, loss 0.0026, train acc 0.774, test acc 0.770, time 16.2 sec\n",
      "epoch 7, loss 0.0025, train acc 0.787, test acc 0.780, time 16.6 sec\n",
      "epoch 8, loss 0.0024, train acc 0.796, test acc 0.788, time 15.9 sec\n",
      "epoch 9, loss 0.0023, train acc 0.803, test acc 0.794, time 16.8 sec\n",
      "epoch 10, loss 0.0022, train acc 0.809, test acc 0.800, time 15.9 sec\n"
     ]
    }
   ],
   "source": [
    "train(\n",
    "    model,\n",
    "    train_iter=train_iter,\n",
    "    test_iter=test_iter,\n",
    "    optimizer=optimizer,\n",
    "    num_epochs=num_epochs\n",
    ")"
   ]
  },
  {
   "cell_type": "markdown",
   "id": "eea52bc9",
   "metadata": {},
   "source": [
    "**Вывод**\n",
    "1. Модель недообучена.\n",
    "1. Возможно, если увеличить число эпох, то качество улучшится, но мы пойдем другим путем."
   ]
  },
  {
   "cell_type": "markdown",
   "id": "1d7b6861",
   "metadata": {},
   "source": [
    "#### Обучение model_v_1"
   ]
  },
  {
   "cell_type": "code",
   "execution_count": 26,
   "id": "1b472d6e",
   "metadata": {},
   "outputs": [],
   "source": [
    "model = torch.nn.Sequential(\n",
    "    torch.nn.Flatten(),\n",
    "    torch.nn.Linear(784, 256),\n",
    "    torch.nn.ReLU(),\n",
    "    torch.nn.Linear(256, 10)\n",
    ")"
   ]
  },
  {
   "cell_type": "markdown",
   "id": "34d0932b",
   "metadata": {},
   "source": [
    "Изменим оптимизатор с SGD на Adam:"
   ]
  },
  {
   "cell_type": "code",
   "execution_count": 27,
   "id": "80f31c7b",
   "metadata": {},
   "outputs": [],
   "source": [
    "lr, num_epochs = .01, 10\n",
    "optimizer = torch.optim.Adam(model.parameters(), lr=lr)"
   ]
  },
  {
   "cell_type": "code",
   "execution_count": 28,
   "id": "bed20408",
   "metadata": {},
   "outputs": [
    {
     "name": "stdout",
     "output_type": "stream",
     "text": [
      "epoch 1, loss 0.0021, train acc 0.808, test acc 0.838, time 45.6 sec\n",
      "epoch 2, loss 0.0015, train acc 0.861, test acc 0.846, time 44.9 sec\n",
      "epoch 3, loss 0.0014, train acc 0.870, test acc 0.859, time 44.8 sec\n",
      "epoch 4, loss 0.0013, train acc 0.879, test acc 0.865, time 45.0 sec\n",
      "epoch 5, loss 0.0012, train acc 0.883, test acc 0.864, time 44.8 sec\n",
      "epoch 6, loss 0.0012, train acc 0.888, test acc 0.866, time 45.1 sec\n",
      "epoch 7, loss 0.0012, train acc 0.891, test acc 0.868, time 45.0 sec\n",
      "epoch 8, loss 0.0011, train acc 0.893, test acc 0.866, time 45.8 sec\n",
      "epoch 9, loss 0.0011, train acc 0.895, test acc 0.867, time 46.0 sec\n",
      "epoch 10, loss 0.0011, train acc 0.897, test acc 0.874, time 45.5 sec\n"
     ]
    }
   ],
   "source": [
    "train(\n",
    "    model,\n",
    "    train_iter=train_iter,\n",
    "    test_iter=test_iter,\n",
    "    optimizer=optimizer,\n",
    "    num_epochs=num_epochs\n",
    ")"
   ]
  },
  {
   "cell_type": "markdown",
   "id": "ee497dd0",
   "metadata": {},
   "source": [
    "**Вывод**\n",
    "1. Обучение проходит значительно медленнее.\n",
    "1. Но результаты лучше.\n",
    "1. Качество модели еще не достигло заданного значения."
   ]
  },
  {
   "cell_type": "markdown",
   "id": "22ff09e1",
   "metadata": {},
   "source": [
    "#### Обучение model v_2"
   ]
  },
  {
   "cell_type": "markdown",
   "id": "3d5ea99a",
   "metadata": {},
   "source": [
    "Увеличим глубину модели:"
   ]
  },
  {
   "cell_type": "code",
   "execution_count": 30,
   "id": "0ebebd70",
   "metadata": {},
   "outputs": [],
   "source": [
    "model = torch.nn.Sequential(\n",
    "    torch.nn.Flatten(),\n",
    "    torch.nn.Linear(784, 512),\n",
    "    torch.nn.ReLU(),\n",
    "    torch.nn.Linear(512, 256),\n",
    "    torch.nn.ReLU(),\n",
    "    torch.nn.Linear(256, 128), \n",
    "    torch.nn.ReLU(),\n",
    "    torch.nn.Linear(128, 10)\n",
    ")"
   ]
  },
  {
   "cell_type": "code",
   "execution_count": 31,
   "id": "0119fa2a",
   "metadata": {},
   "outputs": [],
   "source": [
    "lr, num_epochs = .01, 10\n",
    "optimizer = torch.optim.Adam(model.parameters(), lr=lr)"
   ]
  },
  {
   "cell_type": "code",
   "execution_count": 32,
   "id": "0535a425",
   "metadata": {},
   "outputs": [
    {
     "name": "stdout",
     "output_type": "stream",
     "text": [
      "epoch 1, loss 0.0024, train acc 0.777, test acc 0.840, time 53.5 sec\n",
      "epoch 2, loss 0.0015, train acc 0.855, test acc 0.855, time 53.4 sec\n",
      "epoch 3, loss 0.0014, train acc 0.866, test acc 0.858, time 53.4 sec\n",
      "epoch 4, loss 0.0013, train acc 0.872, test acc 0.865, time 55.4 sec\n",
      "epoch 5, loss 0.0013, train acc 0.880, test acc 0.860, time 54.9 sec\n",
      "epoch 6, loss 0.0013, train acc 0.882, test acc 0.862, time 54.9 sec\n",
      "epoch 7, loss 0.0012, train acc 0.886, test acc 0.864, time 54.3 sec\n",
      "epoch 8, loss 0.0012, train acc 0.890, test acc 0.857, time 54.5 sec\n",
      "epoch 9, loss 0.0011, train acc 0.892, test acc 0.858, time 53.3 sec\n",
      "epoch 10, loss 0.0011, train acc 0.894, test acc 0.870, time 53.4 sec\n"
     ]
    }
   ],
   "source": [
    "train(\n",
    "    model,\n",
    "    train_iter=train_iter,\n",
    "    test_iter=test_iter,\n",
    "    optimizer=optimizer,\n",
    "    num_epochs=num_epochs\n",
    ")"
   ]
  },
  {
   "cell_type": "markdown",
   "id": "2f6c42c9",
   "metadata": {},
   "source": [
    "**Вывод**\n",
    "1. Результать лучше не стал.\n",
    "1. Появились признаки переобучения."
   ]
  },
  {
   "cell_type": "markdown",
   "id": "dc38cce8",
   "metadata": {},
   "source": [
    "#### Обучение model v_3"
   ]
  },
  {
   "cell_type": "markdown",
   "id": "dfc9e314",
   "metadata": {},
   "source": [
    "Применим Batch-нормализацию:"
   ]
  },
  {
   "cell_type": "code",
   "execution_count": 60,
   "id": "d750c0fb",
   "metadata": {},
   "outputs": [],
   "source": [
    "model = torch.nn.Sequential(\n",
    "    torch.nn.Flatten(),\n",
    "    torch.nn.Linear(784, 512),\n",
    "    torch.nn.BatchNorm1d(512),\n",
    "    torch.nn.ReLU(),\n",
    "    torch.nn.Linear(512, 256),\n",
    "    torch.nn.BatchNorm1d(256),\n",
    "    torch.nn.ReLU(),\n",
    "    torch.nn.Linear(256, 128),\n",
    "    torch.nn.BatchNorm1d(128), \n",
    "    torch.nn.ReLU(),\n",
    "    torch.nn.Linear(128, 64),\n",
    "    torch.nn.BatchNorm1d(64), \n",
    "    torch.nn.ReLU(),\n",
    "    torch.nn.Linear(64, 10),\n",
    "\n",
    ")"
   ]
  },
  {
   "cell_type": "code",
   "execution_count": 61,
   "id": "0a65b22c",
   "metadata": {},
   "outputs": [],
   "source": [
    "lr, num_epochs = .01, 10\n",
    "optimizer = torch.optim.Adam(model.parameters(), lr=lr)"
   ]
  },
  {
   "cell_type": "code",
   "execution_count": 62,
   "id": "5e6335a5",
   "metadata": {},
   "outputs": [
    {
     "name": "stdout",
     "output_type": "stream",
     "text": [
      "epoch 1, loss 0.0019, train acc 0.818, test acc 0.849, time 14.3 sec\n",
      "epoch 2, loss 0.0014, train acc 0.869, test acc 0.860, time 15.5 sec\n",
      "epoch 3, loss 0.0012, train acc 0.885, test acc 0.868, time 13.7 sec\n",
      "epoch 4, loss 0.0011, train acc 0.896, test acc 0.872, time 13.5 sec\n",
      "epoch 5, loss 0.0010, train acc 0.904, test acc 0.871, time 13.8 sec\n",
      "epoch 6, loss 0.0009, train acc 0.911, test acc 0.877, time 13.2 sec\n",
      "epoch 7, loss 0.0009, train acc 0.918, test acc 0.874, time 12.4 sec\n",
      "epoch 8, loss 0.0008, train acc 0.922, test acc 0.880, time 13.2 sec\n",
      "epoch 9, loss 0.0008, train acc 0.928, test acc 0.880, time 13.6 sec\n",
      "epoch 10, loss 0.0007, train acc 0.931, test acc 0.884, time 12.9 sec\n"
     ]
    }
   ],
   "source": [
    "train(\n",
    "    model,\n",
    "    train_iter=train_iter,\n",
    "    test_iter=test_iter,\n",
    "    optimizer=optimizer,\n",
    "    num_epochs=num_epochs\n",
    ")"
   ]
  },
  {
   "cell_type": "markdown",
   "id": "7ef80818",
   "metadata": {},
   "source": [
    "**Вывод**\n",
    "1. Модель обучается быстрее.\n",
    "1. Признаков переобучения нет.\n",
    "1. Результат на тестовой выборке соответствует заданному конторльному значению качества модели."
   ]
  },
  {
   "cell_type": "markdown",
   "id": "d11ed0ff",
   "metadata": {},
   "source": [
    "#### Обучение model v_4"
   ]
  },
  {
   "cell_type": "markdown",
   "id": "b9092163",
   "metadata": {},
   "source": [
    "Применим Dropout-регуляризацию"
   ]
  },
  {
   "cell_type": "code",
   "execution_count": 117,
   "id": "cdbf9ead",
   "metadata": {},
   "outputs": [],
   "source": [
    "model = torch.nn.Sequential(\n",
    "    torch.nn.Flatten(),\n",
    "    torch.nn.Linear(784, 1568),\n",
    "    torch.nn.ReLU(),\n",
    "    torch.nn.Dropout(0.3),\n",
    "    torch.nn.Linear(1568, 784),\n",
    "    torch.nn.ReLU(),\n",
    "    torch.nn.Dropout(0.3),\n",
    "    torch.nn.Linear(784, 392),\n",
    "    torch.nn.ReLU(),\n",
    "    torch.nn.Dropout(0.3),\n",
    "    torch.nn.Linear(392, 10),\n",
    ")"
   ]
  },
  {
   "cell_type": "code",
   "execution_count": 118,
   "id": "2cf4a945",
   "metadata": {},
   "outputs": [],
   "source": [
    "lr, num_epochs = .01, 30\n",
    "optimizer = torch.optim.SGD(model.parameters(), lr=lr)"
   ]
  },
  {
   "cell_type": "code",
   "execution_count": 119,
   "id": "e236b5eb",
   "metadata": {},
   "outputs": [
    {
     "name": "stdout",
     "output_type": "stream",
     "text": [
      "epoch 1, loss 0.0088, train acc 0.223, test acc 0.265, time 28.1 sec\n",
      "epoch 2, loss 0.0075, train acc 0.367, test acc 0.443, time 28.5 sec\n",
      "epoch 3, loss 0.0052, train acc 0.527, test acc 0.570, time 24.3 sec\n",
      "epoch 4, loss 0.0042, train acc 0.597, test acc 0.612, time 29.2 sec\n",
      "epoch 5, loss 0.0036, train acc 0.646, test acc 0.656, time 28.5 sec\n",
      "epoch 6, loss 0.0033, train acc 0.676, test acc 0.684, time 27.3 sec\n",
      "epoch 7, loss 0.0031, train acc 0.700, test acc 0.705, time 26.3 sec\n",
      "epoch 8, loss 0.0029, train acc 0.720, test acc 0.722, time 27.3 sec\n",
      "epoch 9, loss 0.0028, train acc 0.736, test acc 0.736, time 26.5 sec\n",
      "epoch 10, loss 0.0027, train acc 0.752, test acc 0.749, time 26.2 sec\n",
      "epoch 11, loss 0.0026, train acc 0.763, test acc 0.756, time 26.7 sec\n",
      "epoch 12, loss 0.0025, train acc 0.773, test acc 0.763, time 27.2 sec\n",
      "epoch 13, loss 0.0024, train acc 0.780, test acc 0.777, time 26.9 sec\n",
      "epoch 14, loss 0.0024, train acc 0.788, test acc 0.780, time 26.5 sec\n",
      "epoch 15, loss 0.0023, train acc 0.795, test acc 0.791, time 25.3 sec\n",
      "epoch 16, loss 0.0022, train acc 0.801, test acc 0.791, time 26.7 sec\n",
      "epoch 17, loss 0.0022, train acc 0.805, test acc 0.796, time 25.9 sec\n",
      "epoch 18, loss 0.0022, train acc 0.809, test acc 0.799, time 25.7 sec\n",
      "epoch 19, loss 0.0021, train acc 0.814, test acc 0.805, time 25.9 sec\n",
      "epoch 20, loss 0.0021, train acc 0.814, test acc 0.809, time 25.3 sec\n",
      "epoch 21, loss 0.0020, train acc 0.820, test acc 0.811, time 25.2 sec\n",
      "epoch 22, loss 0.0020, train acc 0.822, test acc 0.808, time 24.6 sec\n",
      "epoch 23, loss 0.0020, train acc 0.823, test acc 0.815, time 25.3 sec\n",
      "epoch 24, loss 0.0019, train acc 0.827, test acc 0.818, time 24.9 sec\n",
      "epoch 25, loss 0.0019, train acc 0.830, test acc 0.818, time 25.5 sec\n",
      "epoch 26, loss 0.0019, train acc 0.831, test acc 0.821, time 25.9 sec\n",
      "epoch 27, loss 0.0019, train acc 0.833, test acc 0.821, time 25.4 sec\n",
      "epoch 28, loss 0.0018, train acc 0.836, test acc 0.824, time 25.6 sec\n",
      "epoch 29, loss 0.0018, train acc 0.837, test acc 0.823, time 25.1 sec\n",
      "epoch 30, loss 0.0018, train acc 0.838, test acc 0.830, time 26.5 sec\n"
     ]
    }
   ],
   "source": [
    "train(\n",
    "    model,\n",
    "    train_iter=train_iter,\n",
    "    test_iter=test_iter,\n",
    "    optimizer=optimizer,\n",
    "    num_epochs=num_epochs\n",
    ")"
   ]
  },
  {
   "cell_type": "markdown",
   "id": "2d76bd26",
   "metadata": {},
   "source": [
    "**Вывод**\n",
    "1. Комбинация SGD и Dropout-регуляризации дало в результате хорошее качество модели, хотя для этого понадобилось значитально больше эпох.\n",
    "1. Обучение шло быстрее.\n",
    "1. Показатели качества модели менялись медленно, но верно, без признаков переобучения модели.\n",
    "1. Но до требуемых значений дотянуть не удалось... Вероятно, потребовалось бы ещё больше эпох."
   ]
  },
  {
   "cell_type": "markdown",
   "id": "f63f7ddf",
   "metadata": {},
   "source": [
    "### Заключение"
   ]
  },
  {
   "cell_type": "markdown",
   "id": "be662c90",
   "metadata": {},
   "source": [
    "Использование оптимизатора Adam в сочетании с Batch-нормализацией позволило по прошествии 10-и эпох получить accuracy на тестовтй выборке более 88%\n"
   ]
  }
 ],
 "metadata": {
  "kernelspec": {
   "display_name": "pytorch_kernel",
   "language": "python",
   "name": "pytorch_kernel"
  },
  "language_info": {
   "codemirror_mode": {
    "name": "ipython",
    "version": 3
   },
   "file_extension": ".py",
   "mimetype": "text/x-python",
   "name": "python",
   "nbconvert_exporter": "python",
   "pygments_lexer": "ipython3",
   "version": "3.10.16"
  }
 },
 "nbformat": 4,
 "nbformat_minor": 5
}
