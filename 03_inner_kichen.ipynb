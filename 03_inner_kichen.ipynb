{
 "cells": [
  {
   "cell_type": "markdown",
   "id": "2b251af5",
   "metadata": {},
   "source": [
    "# Models train inner kichen"
   ]
  },
  {
   "cell_type": "code",
   "execution_count": 4,
   "id": "622d3771",
   "metadata": {},
   "outputs": [],
   "source": [
    "import torch\n",
    "\n",
    "from matplotlib import pyplot as plt"
   ]
  },
  {
   "cell_type": "code",
   "execution_count": 5,
   "id": "90def4df",
   "metadata": {},
   "outputs": [],
   "source": [
    "t_c = [0.5, 14.0, 15.0, 28.0, 11.0, 8.0, 3.0, -4.0, 6.0, 13.0, 21.0]\n",
    "t_u = [35.7, 55.9, 58.2, 81.9, 56.3, 48.9, 33.9, 21.8, 48.4, 60.4, 68.4]\n",
    "t_c = torch.tensor(t_c)\n",
    "t_u = torch.tensor(t_u)"
   ]
  },
  {
   "cell_type": "code",
   "execution_count": 6,
   "id": "885def3c",
   "metadata": {},
   "outputs": [
    {
     "data": {
      "image/png": "[encoded data removed]",
      "text/plain": [
       "<Figure size 640x480 with 1 Axes>"
      ]
     },
     "metadata": {},
     "output_type": "display_data"
    }
   ],
   "source": [
    "plt.scatter(t_u, t_c);"
   ]
  },
  {
   "cell_type": "code",
   "execution_count": 7,
   "id": "d317081d",
   "metadata": {},
   "outputs": [],
   "source": [
    "# Функция модели\n",
    "def model(t_u, w, b):\n",
    "    return w * t_u + b"
   ]
  },
  {
   "cell_type": "code",
   "execution_count": 8,
   "id": "adea037d",
   "metadata": {},
   "outputs": [],
   "source": [
    "# Функция потерь (среднеквадратичная)\n",
    "def loss_fn(t_p, t_c):\n",
    "    squared_diffs = (t_p - t_c)**2\n",
    "    return squared_diffs.mean()"
   ]
  },
  {
   "cell_type": "code",
   "execution_count": 9,
   "id": "4c9b9464",
   "metadata": {},
   "outputs": [
    {
     "name": "stdout",
     "output_type": "stream",
     "text": [
      "tensor(1.) tensor(0.)\n"
     ]
    }
   ],
   "source": [
    "# Задаем начельные значения параметров\n",
    "w = torch.ones(())\n",
    "b = torch.zeros(())\n",
    "print(w, b)"
   ]
  },
  {
   "cell_type": "code",
   "execution_count": 10,
   "id": "981e3a16",
   "metadata": {},
   "outputs": [
    {
     "data": {
      "text/plain": [
       "tensor([35.7000, 55.9000, 58.2000, 81.9000, 56.3000, 48.9000, 33.9000, 21.8000,\n",
       "        48.4000, 60.4000, 68.4000])"
      ]
     },
     "execution_count": 10,
     "metadata": {},
     "output_type": "execute_result"
    }
   ],
   "source": [
    "t_p = model(t_u, w, b)\n",
    "t_p"
   ]
  },
  {
   "cell_type": "code",
   "execution_count": 11,
   "id": "e7f1159a",
   "metadata": {},
   "outputs": [
    {
     "data": {
      "text/plain": [
       "tensor(1763.8848)"
      ]
     },
     "execution_count": 11,
     "metadata": {},
     "output_type": "execute_result"
    }
   ],
   "source": [
    "# Значение функции потерь\n",
    "loss = loss_fn(t_p, t_c)\n",
    "loss"
   ]
  },
  {
   "cell_type": "markdown",
   "id": "2930c475",
   "metadata": {},
   "source": [
    "## Транслирование"
   ]
  },
  {
   "cell_type": "code",
   "execution_count": 12,
   "id": "4083790b",
   "metadata": {},
   "outputs": [],
   "source": [
    "x = torch.ones(())\n",
    "y = torch.ones(3, 1)\n",
    "z = torch.ones(1, 3)\n",
    "a = torch.ones(2, 1, 1)"
   ]
  },
  {
   "cell_type": "code",
   "execution_count": 13,
   "id": "58bb0957",
   "metadata": {},
   "outputs": [
    {
     "name": "stdout",
     "output_type": "stream",
     "text": [
      "shapes: x: torch.Size([]), y: torch.Size([3, 1])\n",
      "z: torch.Size([1, 3]), a: torch.Size([2, 1, 1])\n",
      "x * y: torch.Size([3, 1])\n",
      "y * z: torch.Size([3, 3])\n",
      "y * z * a: torch.Size([2, 3, 3])\n"
     ]
    }
   ],
   "source": [
    "print(f\"shapes: x: {x.shape}, y: {y.shape}\")\n",
    "print(f\"z: {z.shape}, a: {a.shape}\")\n",
    "print(\"x * y:\", (x * y).shape)\n",
    "print(\"y * z:\", (y * z).shape)\n",
    "print(\"y * z * a:\", (y * z * a).shape)"
   ]
  },
  {
   "cell_type": "code",
   "execution_count": 14,
   "id": "92c83370",
   "metadata": {},
   "outputs": [
    {
     "data": {
      "text/plain": [
       "tensor(1.)"
      ]
     },
     "execution_count": 14,
     "metadata": {},
     "output_type": "execute_result"
    }
   ],
   "source": [
    "x"
   ]
  },
  {
   "cell_type": "code",
   "execution_count": 15,
   "id": "56aebf9c",
   "metadata": {},
   "outputs": [
    {
     "data": {
      "text/plain": [
       "tensor([[1.],\n",
       "        [1.],\n",
       "        [1.]])"
      ]
     },
     "execution_count": 15,
     "metadata": {},
     "output_type": "execute_result"
    }
   ],
   "source": [
    "y"
   ]
  },
  {
   "cell_type": "code",
   "execution_count": 16,
   "id": "0963c272",
   "metadata": {},
   "outputs": [
    {
     "data": {
      "text/plain": [
       "tensor([[1.],\n",
       "        [1.],\n",
       "        [1.]])"
      ]
     },
     "execution_count": 16,
     "metadata": {},
     "output_type": "execute_result"
    }
   ],
   "source": [
    "x * y"
   ]
  },
  {
   "cell_type": "code",
   "execution_count": 17,
   "id": "4b8d8526",
   "metadata": {},
   "outputs": [
    {
     "data": {
      "text/plain": [
       "tensor([[1., 1., 1.]])"
      ]
     },
     "execution_count": 17,
     "metadata": {},
     "output_type": "execute_result"
    }
   ],
   "source": [
    "z"
   ]
  },
  {
   "cell_type": "code",
   "execution_count": 18,
   "id": "c66254f2",
   "metadata": {},
   "outputs": [
    {
     "data": {
      "text/plain": [
       "tensor([[1., 1., 1.],\n",
       "        [1., 1., 1.],\n",
       "        [1., 1., 1.]])"
      ]
     },
     "execution_count": 18,
     "metadata": {},
     "output_type": "execute_result"
    }
   ],
   "source": [
    "y * z"
   ]
  },
  {
   "cell_type": "code",
   "execution_count": 19,
   "id": "f090b1fb",
   "metadata": {},
   "outputs": [
    {
     "data": {
      "text/plain": [
       "tensor([[[1.]],\n",
       "\n",
       "        [[1.]]])"
      ]
     },
     "execution_count": 19,
     "metadata": {},
     "output_type": "execute_result"
    }
   ],
   "source": [
    "a"
   ]
  },
  {
   "cell_type": "code",
   "execution_count": 20,
   "id": "792b5a80",
   "metadata": {},
   "outputs": [
    {
     "data": {
      "text/plain": [
       "tensor([[[1.],\n",
       "         [1.],\n",
       "         [1.]],\n",
       "\n",
       "        [[1.],\n",
       "         [1.],\n",
       "         [1.]]])"
      ]
     },
     "execution_count": 20,
     "metadata": {},
     "output_type": "execute_result"
    }
   ],
   "source": [
    "y * a"
   ]
  },
  {
   "cell_type": "code",
   "execution_count": 21,
   "id": "50955b43",
   "metadata": {},
   "outputs": [
    {
     "data": {
      "text/plain": [
       "tensor([[[1., 1., 1.]],\n",
       "\n",
       "        [[1., 1., 1.]]])"
      ]
     },
     "execution_count": 21,
     "metadata": {},
     "output_type": "execute_result"
    }
   ],
   "source": [
    "z * a"
   ]
  },
  {
   "cell_type": "code",
   "execution_count": 22,
   "id": "9af2a330",
   "metadata": {},
   "outputs": [
    {
     "data": {
      "text/plain": [
       "tensor([[[1., 1., 1.],\n",
       "         [1., 1., 1.],\n",
       "         [1., 1., 1.]],\n",
       "\n",
       "        [[1., 1., 1.],\n",
       "         [1., 1., 1.],\n",
       "         [1., 1., 1.]]])"
      ]
     },
     "execution_count": 22,
     "metadata": {},
     "output_type": "execute_result"
    }
   ],
   "source": [
    "y * z * a"
   ]
  },
  {
   "cell_type": "markdown",
   "id": "4152086a",
   "metadata": {},
   "source": [
    "## Gradient Descent"
   ]
  },
  {
   "cell_type": "code",
   "execution_count": 23,
   "id": "763ec91c",
   "metadata": {},
   "outputs": [],
   "source": [
    "delta = 0.1\n",
    "learning_rate = 1e-2 # скорость обучения"
   ]
  },
  {
   "cell_type": "code",
   "execution_count": 24,
   "id": "5dd74257",
   "metadata": {},
   "outputs": [],
   "source": [
    "loss_rate_of_change_w = \\\n",
    "    (loss_fn(model(t_u, w + delta, b), t_c) -\n",
    "     loss_fn(model(t_u, w - delta, b), t_c)) / (2.0 * delta)"
   ]
  },
  {
   "cell_type": "code",
   "execution_count": 25,
   "id": "37ee0638",
   "metadata": {},
   "outputs": [],
   "source": [
    "w = w - learning_rate * loss_rate_of_change_w"
   ]
  },
  {
   "cell_type": "code",
   "execution_count": 26,
   "id": "cfefc5e4",
   "metadata": {},
   "outputs": [],
   "source": [
    "loss_rate_of_change_b = \\\n",
    "    (loss_fn(model(t_u, w, b + delta), t_c) -\n",
    "     loss_fn(model(t_u, w, b - delta), t_c)) / (2.0 * delta)"
   ]
  },
  {
   "cell_type": "code",
   "execution_count": 27,
   "id": "507476a3",
   "metadata": {},
   "outputs": [],
   "source": [
    "b = b - learning_rate * loss_rate_of_change_b"
   ]
  },
  {
   "cell_type": "markdown",
   "id": "1d8bae01",
   "metadata": {},
   "source": [
    "### Вычисление производных"
   ]
  },
  {
   "cell_type": "code",
   "execution_count": 28,
   "id": "3cedf4a9",
   "metadata": {},
   "outputs": [],
   "source": [
    "def dloss_fn(t_p, t_c):\n",
    "    dsq_diffs = 2 * (t_p - t_c) / t_p.size(0)\n",
    "    return dsq_diffs"
   ]
  },
  {
   "cell_type": "code",
   "execution_count": 29,
   "id": "cb259824",
   "metadata": {},
   "outputs": [],
   "source": [
    "def dmodel_dw(t_u, w, b):\n",
    "    return t_u"
   ]
  },
  {
   "cell_type": "code",
   "execution_count": 30,
   "id": "9596c314",
   "metadata": {},
   "outputs": [],
   "source": [
    "def dmodel_db(t_u, w, b):\n",
    "    return 1.0"
   ]
  },
  {
   "cell_type": "markdown",
   "id": "6c155d1e",
   "metadata": {},
   "source": [
    "### Определение функции градиента"
   ]
  },
  {
   "cell_type": "code",
   "execution_count": 31,
   "id": "5efd733d",
   "metadata": {},
   "outputs": [],
   "source": [
    "def grad_fn(t_u, t_c, t_p, w, b):\n",
    "    dloss_dtp = dloss_fn(t_p, t_c)\n",
    "    dloss_dw = dloss_dtp * dmodel_dw(t_u, w, b)\n",
    "    dloss_db = dloss_dtp * dmodel_db(t_u, w, b)\n",
    "    return torch.stack([dloss_dw.sum(), dloss_db.sum()])"
   ]
  },
  {
   "cell_type": "markdown",
   "id": "4baa10c6",
   "metadata": {},
   "source": [
    "### Подгонка модели в цикле"
   ]
  },
  {
   "cell_type": "code",
   "execution_count": 32,
   "id": "dfd534cb",
   "metadata": {},
   "outputs": [],
   "source": [
    "def training_loop(n_epochs, learning_rate, params, t_u, t_c, \n",
    "                  print_params=True):\n",
    "    for epoch in range(1, n_epochs +1):\n",
    "        w, b = params\n",
    "        \n",
    "        t_p = model(t_u, w, b) # прямой проход\n",
    "        loss = loss_fn(t_p, t_c)\n",
    "        grad = grad_fn(t_u, t_c, t_p, w, b) # обратный проход\n",
    "\n",
    "        params = params - learning_rate * grad\n",
    "\n",
    "        if epoch in {1, 2, 3, 10, 11, 99, 100, 4000, 5000}:\n",
    "            print('Epoch %d, Loss %f' % (epoch, float(loss)))\n",
    "            if print_params:\n",
    "                print('   Params:', params)\n",
    "                print('   Grad:  ', grad)\n",
    "        if epoch in {4, 12, 101}:\n",
    "                print('...')\n",
    "\n",
    "        if not torch.isfinite(loss).all():\n",
    "            break        \n",
    "\n",
    "    return params    "
   ]
  },
  {
   "cell_type": "markdown",
   "id": "5a988068",
   "metadata": {},
   "source": [
    "### Запускаем цикл обучения"
   ]
  },
  {
   "cell_type": "code",
   "execution_count": 33,
   "id": "78573a78",
   "metadata": {},
   "outputs": [
    {
     "name": "stdout",
     "output_type": "stream",
     "text": [
      "Epoch 1, Loss 1763.884766\n",
      "   Params: tensor([-44.1730,  -0.8260])\n",
      "   Grad:   tensor([4517.2964,   82.6000])\n",
      "Epoch 2, Loss 5802484.500000\n",
      "   Params: tensor([2568.4011,   45.1637])\n",
      "   Grad:   tensor([-261257.4062,   -4598.9702])\n",
      "Epoch 3, Loss 19408029696.000000\n",
      "   Params: tensor([-148527.7344,   -2616.3931])\n",
      "   Grad:   tensor([15109614.0000,   266155.6875])\n",
      "...\n",
      "Epoch 10, Loss 90901105189019073810297959556841472.000000\n",
      "   Params: tensor([3.2144e+17, 5.6621e+15])\n",
      "   Grad:   tensor([-3.2700e+19, -5.7600e+17])\n",
      "Epoch 11, Loss inf\n",
      "   Params: tensor([-1.8590e+19, -3.2746e+17])\n",
      "   Grad:   tensor([1.8912e+21, 3.3313e+19])\n"
     ]
    },
    {
     "data": {
      "text/plain": [
       "tensor([-1.8590e+19, -3.2746e+17])"
      ]
     },
     "execution_count": 33,
     "metadata": {},
     "output_type": "execute_result"
    }
   ],
   "source": [
    "training_loop(\n",
    "    n_epochs = 100, \n",
    "    learning_rate = 1e-2,\n",
    "    params = torch.tensor([1.0, 0.0]),\n",
    "    t_u = t_u,\n",
    "    t_c = t_c)"
   ]
  },
  {
   "cell_type": "code",
   "execution_count": 34,
   "id": "5ca57838",
   "metadata": {},
   "outputs": [
    {
     "name": "stdout",
     "output_type": "stream",
     "text": [
      "Epoch 1, Loss 1763.884766\n",
      "   Params: tensor([ 0.5483, -0.0083])\n",
      "   Grad:   tensor([4517.2964,   82.6000])\n",
      "Epoch 2, Loss 323.090515\n",
      "   Params: tensor([ 0.3623, -0.0118])\n",
      "   Grad:   tensor([1859.5493,   35.7843])\n",
      "Epoch 3, Loss 78.929634\n",
      "   Params: tensor([ 0.2858, -0.0135])\n",
      "   Grad:   tensor([765.4666,  16.5122])\n",
      "...\n",
      "Epoch 10, Loss 29.105247\n",
      "   Params: tensor([ 0.2324, -0.0166])\n",
      "   Grad:   tensor([1.4803, 3.0544])\n",
      "Epoch 11, Loss 29.104168\n",
      "   Params: tensor([ 0.2323, -0.0169])\n",
      "   Grad:   tensor([0.5781, 3.0384])\n",
      "...\n",
      "Epoch 99, Loss 29.023582\n",
      "   Params: tensor([ 0.2327, -0.0435])\n",
      "   Grad:   tensor([-0.0533,  3.0226])\n",
      "Epoch 100, Loss 29.022667\n",
      "   Params: tensor([ 0.2327, -0.0438])\n",
      "   Grad:   tensor([-0.0532,  3.0226])\n"
     ]
    },
    {
     "data": {
      "text/plain": [
       "tensor([ 0.2327, -0.0438])"
      ]
     },
     "execution_count": 34,
     "metadata": {},
     "output_type": "execute_result"
    }
   ],
   "source": [
    "training_loop(\n",
    "    n_epochs = 100, \n",
    "    learning_rate = 1e-4,\n",
    "    params = torch.tensor([1.0, 0.0]),\n",
    "    t_u = t_u,\n",
    "    t_c = t_c)"
   ]
  },
  {
   "cell_type": "markdown",
   "id": "48544701",
   "metadata": {},
   "source": [
    "### Нормализация входных сигналов"
   ]
  },
  {
   "cell_type": "code",
   "execution_count": 35,
   "id": "a9724aa6",
   "metadata": {},
   "outputs": [],
   "source": [
    "t_un = t_u * 0.1"
   ]
  },
  {
   "cell_type": "code",
   "execution_count": 36,
   "id": "fdc5a5f9",
   "metadata": {},
   "outputs": [
    {
     "name": "stdout",
     "output_type": "stream",
     "text": [
      "Epoch 1, Loss 80.364342\n",
      "   Params: tensor([1.7761, 0.1064])\n",
      "   Grad:   tensor([-77.6140, -10.6400])\n",
      "Epoch 2, Loss 37.574913\n",
      "   Params: tensor([2.0848, 0.1303])\n",
      "   Grad:   tensor([-30.8623,  -2.3864])\n",
      "Epoch 3, Loss 30.871077\n",
      "   Params: tensor([2.2094, 0.1217])\n",
      "   Grad:   tensor([-12.4631,   0.8587])\n",
      "...\n",
      "Epoch 10, Loss 29.030489\n",
      "   Params: tensor([ 2.3232, -0.0710])\n",
      "   Grad:   tensor([-0.5355,  2.9295])\n",
      "Epoch 11, Loss 28.941877\n",
      "   Params: tensor([ 2.3284, -0.1003])\n",
      "   Grad:   tensor([-0.5240,  2.9264])\n",
      "...\n",
      "Epoch 99, Loss 22.214186\n",
      "   Params: tensor([ 2.7508, -2.4910])\n",
      "   Grad:   tensor([-0.4453,  2.5208])\n",
      "Epoch 100, Loss 22.148710\n",
      "   Params: tensor([ 2.7553, -2.5162])\n",
      "   Grad:   tensor([-0.4446,  2.5165])\n"
     ]
    },
    {
     "data": {
      "text/plain": [
       "tensor([ 2.7553, -2.5162])"
      ]
     },
     "execution_count": 36,
     "metadata": {},
     "output_type": "execute_result"
    }
   ],
   "source": [
    "training_loop(\n",
    "    n_epochs = 100, \n",
    "    learning_rate = 1e-2,\n",
    "    params = torch.tensor([1.0, 0.0]),\n",
    "    t_u = t_un,\n",
    "    t_c = t_c)"
   ]
  },
  {
   "cell_type": "code",
   "execution_count": 37,
   "id": "e5de8da0",
   "metadata": {},
   "outputs": [
    {
     "name": "stdout",
     "output_type": "stream",
     "text": [
      "Epoch 1, Loss 80.364342\n",
      "Epoch 2, Loss 37.574913\n",
      "Epoch 3, Loss 30.871077\n",
      "...\n",
      "Epoch 10, Loss 29.030489\n",
      "Epoch 11, Loss 28.941877\n",
      "...\n",
      "Epoch 99, Loss 22.214186\n",
      "Epoch 100, Loss 22.148710\n",
      "...\n"
     ]
    },
    {
     "name": "stdout",
     "output_type": "stream",
     "text": [
      "Epoch 4000, Loss 2.927680\n",
      "Epoch 5000, Loss 2.927648\n"
     ]
    }
   ],
   "source": [
    "params = training_loop(\n",
    "    n_epochs = 5000,\n",
    "    learning_rate = 1e-2,\n",
    "    params = torch.tensor([1.0, 0.0]),\n",
    "    t_u = t_un,\n",
    "    t_c = t_c,\n",
    "    print_params = False\n",
    ")"
   ]
  },
  {
   "cell_type": "code",
   "execution_count": 38,
   "id": "3adf0455",
   "metadata": {},
   "outputs": [
    {
     "data": {
      "text/plain": [
       "tensor([  5.3671, -17.3012])"
      ]
     },
     "execution_count": 38,
     "metadata": {},
     "output_type": "execute_result"
    }
   ],
   "source": [
    "params"
   ]
  },
  {
   "cell_type": "markdown",
   "id": "74e64e91",
   "metadata": {},
   "source": [
    "### Визуализиреум"
   ]
  },
  {
   "cell_type": "code",
   "execution_count": 42,
   "id": "8cc05590",
   "metadata": {},
   "outputs": [
    {
     "data": {
      "text/plain": [
       "tensor([ 1.8593, 12.7008, 13.9352, 26.6552, 12.9155,  8.9439,  0.8932, -5.6009,\n",
       "         8.6755, 15.1160, 19.4097])"
      ]
     },
     "execution_count": 42,
     "metadata": {},
     "output_type": "execute_result"
    }
   ],
   "source": [
    "t_p = model(t_un, *params)\n",
    "\n",
    "t_p"
   ]
  },
  {
   "cell_type": "code",
   "execution_count": 45,
   "id": "28a8c654",
   "metadata": {},
   "outputs": [
    {
     "data": {
      "image/png": "[encoded data removed]",
      "text/plain": [
       "<Figure size 1280x960 with 1 Axes>"
      ]
     },
     "metadata": {},
     "output_type": "display_data"
    }
   ],
   "source": [
    "fig = plt.figure(dpi=200)\n",
    "plt.xlabel(\"Temperature (Fahrenheit)\")\n",
    "plt.ylabel(\"Temperature (Celsius)\")\n",
    "plt.plot(t_u.numpy(), t_p.detach().numpy())\n",
    "plt.plot(t_u.numpy(), t_c.numpy(), 'o');\n"
   ]
  },
  {
   "cell_type": "code",
   "execution_count": null,
   "id": "fd05a93e",
   "metadata": {},
   "outputs": [],
   "source": []
  }
 ],
 "metadata": {
  "kernelspec": {
   "display_name": ".venv",
   "language": "python",
   "name": "python3"
  },
  "language_info": {
   "codemirror_mode": {
    "name": "ipython",
    "version": 3
   },
   "file_extension": ".py",
   "mimetype": "text/x-python",
   "name": "python",
   "nbconvert_exporter": "python",
   "pygments_lexer": "ipython3",
   "version": "3.10.16"
  }
 },
 "nbformat": 4,
 "nbformat_minor": 5
}
