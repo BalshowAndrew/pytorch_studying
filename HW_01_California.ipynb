{
 "cells": [
  {
   "cell_type": "markdown",
   "id": "dc6dcc5f",
   "metadata": {},
   "source": [
    "# Домашнее задание по теме \"Основы нейронных сетей\""
   ]
  },
  {
   "cell_type": "code",
   "execution_count": 4,
   "id": "c445034d",
   "metadata": {},
   "outputs": [],
   "source": [
    "import kagglehub\n",
    "import csv\n",
    "import numpy as np"
   ]
  },
  {
   "cell_type": "markdown",
   "id": "89aa983c",
   "metadata": {},
   "source": [
    "## Загрузка данных"
   ]
  },
  {
   "cell_type": "code",
   "execution_count": null,
   "id": "88790d8b",
   "metadata": {},
   "outputs": [
    {
     "name": "stdout",
     "output_type": "stream",
     "text": [
      "Downloading from https://www.kaggle.com/api/v1/datasets/download/camnugent/california-housing-prices?dataset_version_number=1...\n"
     ]
    },
    {
     "name": "stderr",
     "output_type": "stream",
     "text": [
      "100%|██████████| 400k/400k [00:00<00:00, 1.38MB/s]"
     ]
    },
    {
     "name": "stdout",
     "output_type": "stream",
     "text": [
      "Extracting files...\n",
      "Path to dataset files: /home/andrew/.cache/kagglehub/datasets/camnugent/california-housing-prices/versions/1\n"
     ]
    },
    {
     "name": "stderr",
     "output_type": "stream",
     "text": [
      "\n"
     ]
    }
   ],
   "source": [
    "# path = kagglehub.dataset_download(\"camnugent/california-housing-prices\")\n",
    "# print(\"Path to dataset files:\", path)"
   ]
  },
  {
   "cell_type": "code",
   "execution_count": null,
   "id": "0efeb2c8",
   "metadata": {},
   "outputs": [],
   "source": [
    "# !mv /home/andrew/.cache/kagglehub/datasets/camnugent/california-housing-prices/versions/1/housing.csv datas/housing_california.csv"
   ]
  },
  {
   "cell_type": "markdown",
   "id": "92e8ec98",
   "metadata": {},
   "source": [
    "## Подготовка данных"
   ]
  },
  {
   "cell_type": "code",
   "execution_count": 16,
   "id": "8adff9b5",
   "metadata": {},
   "outputs": [
    {
     "data": {
      "text/plain": [
       "(20640, 10)"
      ]
     },
     "execution_count": 16,
     "metadata": {},
     "output_type": "execute_result"
    }
   ],
   "source": [
    "data = np.genfromtxt('datas/housing_california.csv', delimiter=',')[1:]\n",
    "data.shape\n"
   ]
  },
  {
   "cell_type": "code",
   "execution_count": 17,
   "id": "443e350f",
   "metadata": {},
   "outputs": [
    {
     "data": {
      "text/plain": [
       "array([-1.2222e+02,  3.7860e+01,  2.1000e+01,  7.0990e+03,  1.1060e+03,\n",
       "        2.4010e+03,  1.1380e+03,  8.3014e+00,  3.5850e+05,         nan])"
      ]
     },
     "execution_count": 17,
     "metadata": {},
     "output_type": "execute_result"
    }
   ],
   "source": [
    "data[1]"
   ]
  },
  {
   "cell_type": "code",
   "execution_count": null,
   "id": "dbdb55f6",
   "metadata": {},
   "outputs": [],
   "source": []
  }
 ],
 "metadata": {
  "kernelspec": {
   "display_name": ".venv",
   "language": "python",
   "name": "python3"
  },
  "language_info": {
   "codemirror_mode": {
    "name": "ipython",
    "version": 3
   },
   "file_extension": ".py",
   "mimetype": "text/x-python",
   "name": "python",
   "nbconvert_exporter": "python",
   "pygments_lexer": "ipython3",
   "version": "3.10.16"
  }
 },
 "nbformat": 4,
 "nbformat_minor": 5
}
