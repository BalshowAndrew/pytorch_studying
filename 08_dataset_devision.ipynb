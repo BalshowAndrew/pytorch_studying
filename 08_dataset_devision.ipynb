{
 "cells": [
  {
   "cell_type": "markdown",
   "id": "dc341cc3",
   "metadata": {},
   "source": [
    "# Dataset devision"
   ]
  },
  {
   "cell_type": "code",
   "execution_count": 51,
   "id": "1cfea52e",
   "metadata": {},
   "outputs": [],
   "source": [
    "import torch\n",
    "from torch import optim as optim"
   ]
  },
  {
   "cell_type": "code",
   "execution_count": 52,
   "id": "2b16901c",
   "metadata": {},
   "outputs": [],
   "source": [
    "t_c = torch.tensor([0.5, 14.0, 15.0, 28.0, 11.0, 8.0,\n",
    "                    3.0, -4.0, 6.0, 13.0, 21.0])\n",
    "t_u = torch.tensor([35.7, 55.9, 58.2, 81.9, 56.3, 48.9,\n",
    "                    33.9, 21.8, 48.4, 60.4, 68.4])"
   ]
  },
  {
   "cell_type": "code",
   "execution_count": 53,
   "id": "416e7e62",
   "metadata": {},
   "outputs": [
    {
     "data": {
      "text/plain": [
       "torch.Size([11])"
      ]
     },
     "execution_count": 53,
     "metadata": {},
     "output_type": "execute_result"
    }
   ],
   "source": [
    "t_u.shape"
   ]
  },
  {
   "cell_type": "code",
   "execution_count": 54,
   "id": "dceadaa9",
   "metadata": {},
   "outputs": [
    {
     "data": {
      "text/plain": [
       "11"
      ]
     },
     "execution_count": 54,
     "metadata": {},
     "output_type": "execute_result"
    }
   ],
   "source": [
    "n_samples = t_u.shape[0]\n",
    "n_samples"
   ]
  },
  {
   "cell_type": "code",
   "execution_count": 55,
   "id": "54e7632c",
   "metadata": {},
   "outputs": [
    {
     "data": {
      "text/plain": [
       "2"
      ]
     },
     "execution_count": 55,
     "metadata": {},
     "output_type": "execute_result"
    }
   ],
   "source": [
    "# Размер валидационной выборки\n",
    "n_val = int(0.2 * n_samples)\n",
    "n_val"
   ]
  },
  {
   "cell_type": "code",
   "execution_count": 56,
   "id": "3b96bcf9",
   "metadata": {},
   "outputs": [
    {
     "data": {
      "text/plain": [
       "tensor([ 8,  0,  5,  7,  2, 10,  4,  1,  3,  9,  6])"
      ]
     },
     "execution_count": 56,
     "metadata": {},
     "output_type": "execute_result"
    }
   ],
   "source": [
    "# Перемешиваем индексы\n",
    "shuffled_indices = torch.randperm(n_samples)\n",
    "shuffled_indices"
   ]
  },
  {
   "cell_type": "code",
   "execution_count": 57,
   "id": "61d6edcf",
   "metadata": {},
   "outputs": [
    {
     "name": "stdout",
     "output_type": "stream",
     "text": [
      "train_indices: tensor([ 8,  0,  5,  7,  2, 10,  4,  1,  3])\n",
      "val_indices: tensor([9, 6])\n"
     ]
    }
   ],
   "source": [
    "# Получаем индексы для обучающей и валидационной выборок\n",
    "train_indices = shuffled_indices[: -n_val]\n",
    "val_indices = shuffled_indices[-n_val :]\n",
    "\n",
    "print(f\"train_indices: {train_indices}\")\n",
    "print(f\"val_indices: {val_indices}\")"
   ]
  },
  {
   "cell_type": "code",
   "execution_count": 58,
   "id": "bc75f65e",
   "metadata": {},
   "outputs": [
    {
     "name": "stdout",
     "output_type": "stream",
     "text": [
      "train_t_u: tensor([48.4000, 35.7000, 48.9000, 21.8000, 58.2000, 68.4000, 56.3000, 55.9000,\n",
      "        81.9000])\n",
      "train_t_c: tensor([ 6.0000,  0.5000,  8.0000, -4.0000, 15.0000, 21.0000, 11.0000, 14.0000,\n",
      "        28.0000])\n"
     ]
    }
   ],
   "source": [
    "# Получаем входные данные и метки для обучащей выборки:\n",
    "train_t_u = t_u[train_indices]\n",
    "train_t_c = t_c[train_indices]\n",
    "\n",
    "print(f\"train_t_u: {train_t_u}\")\n",
    "print(f\"train_t_c: {train_t_c}\")"
   ]
  },
  {
   "cell_type": "code",
   "execution_count": 59,
   "id": "7c095b2d",
   "metadata": {},
   "outputs": [
    {
     "name": "stdout",
     "output_type": "stream",
     "text": [
      "val_t_u: tensor([60.4000, 33.9000])\n",
      "val_t_c: tensor([13.,  3.])\n"
     ]
    }
   ],
   "source": [
    "# Получаем входные данные и метки для валидационной выборки:\n",
    "val_t_u = t_u[val_indices]\n",
    "val_t_c = t_c[val_indices]\n",
    "\n",
    "print(f\"val_t_u: {val_t_u}\")\n",
    "print(f\"val_t_c: {val_t_c}\")"
   ]
  },
  {
   "cell_type": "code",
   "execution_count": 60,
   "id": "828f6c58",
   "metadata": {},
   "outputs": [],
   "source": [
    "# Нормализация\n",
    "train_t_un = 0.1 * train_t_u\n",
    "val_t_un = 0.1 * val_t_u"
   ]
  },
  {
   "cell_type": "markdown",
   "id": "39b46b2e",
   "metadata": {},
   "source": [
    "## Цикл обучения"
   ]
  },
  {
   "cell_type": "code",
   "execution_count": 61,
   "id": "c631131f",
   "metadata": {},
   "outputs": [],
   "source": [
    "def model(t_u, w, b):\n",
    "    return w * t_u + b"
   ]
  },
  {
   "cell_type": "code",
   "execution_count": 62,
   "id": "92b79c4f",
   "metadata": {},
   "outputs": [],
   "source": [
    "def loss_fn(t_p, t_c):\n",
    "    squared_diffs = (t_p - t_c)**2\n",
    "    return squared_diffs.mean()"
   ]
  },
  {
   "cell_type": "code",
   "execution_count": 63,
   "id": "f9dd52a1",
   "metadata": {},
   "outputs": [],
   "source": [
    "def training_loop(n_epochs, optimizer, params, train_t_u, val_t_u, train_t_c, val_t_c):\n",
    "    for epoch in range(1, n_epochs + 1):\n",
    "        train_t_p = model(train_t_u, *params)\n",
    "        train_loss = loss_fn(train_t_p, train_t_c)\n",
    "\n",
    "        val_t_p = model(val_t_u, *params)\n",
    "        val_loss = loss_fn(val_t_p, val_t_c)\n",
    "\n",
    "        optimizer.zero_grad()\n",
    "        train_loss.backward()\n",
    "        optimizer.step()\n",
    "\n",
    "        if epoch <=3 or epoch % 500 == 0:\n",
    "            print(f\"Epoch {epoch}, Training loss {train_loss.item():.4f},\"\n",
    "                  f\" Validation loss {val_loss.item():.4f}\")\n",
    "    return params        \n"
   ]
  },
  {
   "cell_type": "code",
   "execution_count": 64,
   "id": "12fccf8f",
   "metadata": {},
   "outputs": [],
   "source": [
    "params = torch.tensor([0.1, 0.0], requires_grad=True)\n",
    "learning_rate = 1e-2\n",
    "# Optimizer creating:\n",
    "optimizer = optim.SGD([params], lr=learning_rate)"
   ]
  },
  {
   "cell_type": "code",
   "execution_count": 65,
   "id": "63fe4752",
   "metadata": {},
   "outputs": [
    {
     "name": "stdout",
     "output_type": "stream",
     "text": [
      "Epoch 1, Training loss 194.8522, Validation loss 80.3709\n",
      "Epoch 2, Training loss 55.8134, Validation loss 9.4561\n",
      "Epoch 3, Training loss 36.7419, Validation loss 8.7582\n"
     ]
    },
    {
     "name": "stdout",
     "output_type": "stream",
     "text": [
      "Epoch 500, Training loss 8.1423, Validation loss 2.1599\n",
      "Epoch 1000, Training loss 3.4706, Validation loss 2.9242\n",
      "Epoch 1500, Training loss 2.6288, Validation loss 4.3674\n",
      "Epoch 2000, Training loss 2.4771, Validation loss 5.1816\n",
      "Epoch 2500, Training loss 2.4497, Validation loss 5.5636\n",
      "Epoch 3000, Training loss 2.4448, Validation loss 5.7322\n"
     ]
    },
    {
     "data": {
      "text/plain": [
       "tensor([  5.5788, -18.4097], requires_grad=True)"
      ]
     },
     "execution_count": 65,
     "metadata": {},
     "output_type": "execute_result"
    }
   ],
   "source": [
    "training_loop(\n",
    "    n_epochs=3000,\n",
    "    optimizer=optimizer,\n",
    "    params=params,\n",
    "    train_t_u=train_t_un,\n",
    "    val_t_u=val_t_un,\n",
    "    train_t_c=train_t_c,\n",
    "    val_t_c=val_t_c\n",
    ")"
   ]
  },
  {
   "cell_type": "code",
   "execution_count": null,
   "id": "6248d42b",
   "metadata": {},
   "outputs": [],
   "source": []
  }
 ],
 "metadata": {
  "kernelspec": {
   "display_name": ".venv",
   "language": "python",
   "name": "python3"
  },
  "language_info": {
   "codemirror_mode": {
    "name": "ipython",
    "version": 3
   },
   "file_extension": ".py",
   "mimetype": "text/x-python",
   "name": "python",
   "nbconvert_exporter": "python",
   "pygments_lexer": "ipython3",
   "version": "3.10.16"
  }
 },
 "nbformat": 4,
 "nbformat_minor": 5
}
