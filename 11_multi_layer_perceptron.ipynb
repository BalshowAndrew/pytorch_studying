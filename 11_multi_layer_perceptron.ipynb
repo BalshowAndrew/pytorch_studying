{
 "cells": [
  {
   "cell_type": "markdown",
   "id": "6edcfcf3",
   "metadata": {},
   "source": [
    "# Multi-Layer Perceptron"
   ]
  },
  {
   "cell_type": "code",
   "execution_count": 1,
   "id": "dd2fd223",
   "metadata": {},
   "outputs": [],
   "source": [
    "import matplotlib.pyplot as plt\n",
    "%matplotlib inline"
   ]
  },
  {
   "cell_type": "code",
   "execution_count": 2,
   "id": "dcfe042d",
   "metadata": {},
   "outputs": [],
   "source": [
    "import torch\n",
    "import torchvision as tv\n",
    "import numpy as np\n",
    "import pandas as pd\n",
    "import time"
   ]
  },
  {
   "cell_type": "markdown",
   "id": "2e507b23",
   "metadata": {},
   "source": [
    "## Datas"
   ]
  },
  {
   "cell_type": "code",
   "execution_count": 3,
   "id": "c014075b",
   "metadata": {},
   "outputs": [],
   "source": [
    "BATCH_SIZE = 256"
   ]
  },
  {
   "cell_type": "code",
   "execution_count": 4,
   "id": "7e3d8f35",
   "metadata": {},
   "outputs": [],
   "source": [
    "# download MNIST datas\n",
    "train_dataset = tv.datasets.MNIST('.', train=True, transform=tv.transforms.ToTensor(), download=True)\n",
    "test_dataset = tv.datasets.MNIST('.', train=False, transform=tv.transforms.ToTensor(), download=True)"
   ]
  },
  {
   "cell_type": "code",
   "execution_count": 5,
   "id": "371e0c52",
   "metadata": {},
   "outputs": [
    {
     "data": {
      "text/plain": [
       "Dataset MNIST\n",
       "    Number of datapoints: 60000\n",
       "    Root location: .\n",
       "    Split: Train\n",
       "    StandardTransform\n",
       "Transform: ToTensor()"
      ]
     },
     "execution_count": 5,
     "metadata": {},
     "output_type": "execute_result"
    }
   ],
   "source": [
    "train_dataset"
   ]
  },
  {
   "cell_type": "code",
   "execution_count": 6,
   "id": "8ccb9215",
   "metadata": {},
   "outputs": [
    {
     "data": {
      "text/plain": [
       "Dataset MNIST\n",
       "    Number of datapoints: 10000\n",
       "    Root location: .\n",
       "    Split: Test\n",
       "    StandardTransform\n",
       "Transform: ToTensor()"
      ]
     },
     "execution_count": 6,
     "metadata": {},
     "output_type": "execute_result"
    }
   ],
   "source": [
    "test_dataset"
   ]
  },
  {
   "cell_type": "code",
   "execution_count": 7,
   "id": "70c1b054",
   "metadata": {},
   "outputs": [],
   "source": [
    "train = torch.utils.data.DataLoader(train_dataset, batch_size=BATCH_SIZE)\n",
    "test = torch.utils.data.DataLoader(test_dataset, batch_size=BATCH_SIZE)"
   ]
  },
  {
   "cell_type": "code",
   "execution_count": 8,
   "id": "71f72761",
   "metadata": {},
   "outputs": [
    {
     "data": {
      "text/plain": [
       "<torch.utils.data.dataloader.DataLoader at 0x7ffa59d5bbe0>"
      ]
     },
     "execution_count": 8,
     "metadata": {},
     "output_type": "execute_result"
    }
   ],
   "source": [
    "train"
   ]
  },
  {
   "cell_type": "code",
   "execution_count": 9,
   "id": "43634668",
   "metadata": {},
   "outputs": [
    {
     "data": {
      "text/plain": [
       "<torch.utils.data.dataloader.DataLoader at 0x7ffa08e9bd60>"
      ]
     },
     "execution_count": 9,
     "metadata": {},
     "output_type": "execute_result"
    }
   ],
   "source": [
    "test"
   ]
  },
  {
   "cell_type": "code",
   "execution_count": 10,
   "id": "f07ee297",
   "metadata": {},
   "outputs": [
    {
     "data": {
      "text/plain": [
       "torch.Size([1, 28, 28])"
      ]
     },
     "execution_count": 10,
     "metadata": {},
     "output_type": "execute_result"
    }
   ],
   "source": [
    "train_dataset[0][0].shape"
   ]
  },
  {
   "cell_type": "markdown",
   "id": "6ab921fb",
   "metadata": {},
   "source": [
    "## Model SGD"
   ]
  },
  {
   "cell_type": "code",
   "execution_count": 11,
   "id": "039061cb",
   "metadata": {},
   "outputs": [],
   "source": [
    "model = torch.nn.Sequential(\n",
    "    torch.nn.Flatten(),\n",
    "    torch.nn.Linear(784, 256),\n",
    "    torch.nn.ReLU(),\n",
    "    torch.nn.Linear(256, 10)\n",
    ")"
   ]
  },
  {
   "cell_type": "code",
   "execution_count": 12,
   "id": "226e0011",
   "metadata": {},
   "outputs": [
    {
     "data": {
      "text/plain": [
       "Sequential(\n",
       "  (0): Flatten(start_dim=1, end_dim=-1)\n",
       "  (1): Linear(in_features=784, out_features=256, bias=True)\n",
       "  (2): ReLU()\n",
       "  (3): Linear(in_features=256, out_features=10, bias=True)\n",
       ")"
      ]
     },
     "execution_count": 12,
     "metadata": {},
     "output_type": "execute_result"
    }
   ],
   "source": [
    "model"
   ]
  },
  {
   "cell_type": "code",
   "execution_count": 13,
   "id": "4d8b6526",
   "metadata": {},
   "outputs": [],
   "source": [
    "loss = torch.nn.CrossEntropyLoss()\n",
    "trainer = torch.optim.SGD(model.parameters(), lr=.01)\n",
    "num_epochs = 10"
   ]
  },
  {
   "cell_type": "markdown",
   "id": "7df7a57a",
   "metadata": {},
   "source": [
    "## Train Model"
   ]
  },
  {
   "cell_type": "code",
   "execution_count": 14,
   "id": "0166a7d7",
   "metadata": {},
   "outputs": [],
   "source": [
    "def train_model():\n",
    "    for ep in range(num_epochs):\n",
    "        train_iters, train_passed = 0, 0\n",
    "        train_loss, train_acc = 0., 0. \n",
    "        start=time.time()\n",
    "\n",
    "        model.train()\n",
    "        for X, y in train:\n",
    "            trainer.zero_grad()\n",
    "            y_pred = model(X)\n",
    "            l = loss(y_pred, y)\n",
    "            l.backward()\n",
    "            trainer.step()\n",
    "            train_loss += l.item()\n",
    "            train_acc += (y_pred.argmax(dim=1) == y).sum().item()\n",
    "            train_iters += 1\n",
    "            train_passed += len(X)\n",
    "\n",
    "        test_iters, test_passed = 0, 0\n",
    "        test_loss, test_acc = 0., 0.\n",
    "        model.eval()\n",
    "        for X, y in test:\n",
    "            y_pred = model(X)\n",
    "            l = loss(y_pred, y)\n",
    "            test_loss += l.item()\n",
    "            test_acc += (y_pred.argmax(dim=1) == y).sum().item()\n",
    "            test_iters += 1\n",
    "            test_passed += len(X)\n",
    "\n",
    "        print(\"ep: {}, taked: {:.3f}, train_loss: {}, train_acc: {}, test_loss: {}, test_acc: {}\".format(\n",
    "            ep, time.time() - start, train_loss / train_iters, train_acc / train_passed,\n",
    "            test_loss / test_iters, test_acc / test_passed\n",
    "        ))            "
   ]
  },
  {
   "cell_type": "code",
   "execution_count": 15,
   "id": "b355184b",
   "metadata": {},
   "outputs": [
    {
     "name": "stdout",
     "output_type": "stream",
     "text": [
      "ep: 0, taked: 14.707, train_loss: 2.0181229170332564, train_acc: 0.5749166666666666, test_loss: 1.6504723697900772, test_acc: 0.7273\n",
      "ep: 1, taked: 13.311, train_loss: 1.304376049751931, train_acc: 0.7740166666666667, test_loss: 0.9878777593374253, test_acc: 0.8205\n",
      "ep: 2, taked: 12.455, train_loss: 0.8506758371566204, train_acc: 0.8306333333333333, test_loss: 0.7042370028793812, test_acc: 0.8493\n",
      "ep: 3, taked: 12.572, train_loss: 0.6561351518681708, train_acc: 0.8526333333333334, test_loss: 0.5734108697623015, test_acc: 0.8681\n",
      "ep: 4, taked: 12.199, train_loss: 0.5573848199337087, train_acc: 0.8661833333333333, test_loss: 0.500043573230505, test_acc: 0.879\n",
      "ep: 5, taked: 12.251, train_loss: 0.4983596504368681, train_acc: 0.8749166666666667, test_loss: 0.45347047634422777, test_acc: 0.8866\n",
      "ep: 6, taked: 12.923, train_loss: 0.4592119977829304, train_acc: 0.8811666666666667, test_loss: 0.42140906769782305, test_acc: 0.8905\n",
      "ep: 7, taked: 13.306, train_loss: 0.43133462242623594, train_acc: 0.8862833333333333, test_loss: 0.3980063585564494, test_acc: 0.8938\n",
      "ep: 8, taked: 12.915, train_loss: 0.41037550790512817, train_acc: 0.8902166666666667, test_loss: 0.3801166458055377, test_acc: 0.8965\n",
      "ep: 9, taked: 12.791, train_loss: 0.39393676760348867, train_acc: 0.8933, test_loss: 0.3659155335277319, test_acc: 0.8984\n"
     ]
    }
   ],
   "source": [
    "train_model()"
   ]
  },
  {
   "cell_type": "markdown",
   "id": "0571f468",
   "metadata": {},
   "source": [
    "## Model Adam"
   ]
  },
  {
   "cell_type": "code",
   "execution_count": 16,
   "id": "cc3346b6",
   "metadata": {},
   "outputs": [],
   "source": [
    "model = torch.nn.Sequential(\n",
    "    torch.nn.Flatten(),\n",
    "    torch.nn.Linear(784, 256),\n",
    "    torch.nn.ReLU(),\n",
    "    torch.nn.Linear(256, 10)\n",
    ")"
   ]
  },
  {
   "cell_type": "code",
   "execution_count": 17,
   "id": "1f941d89",
   "metadata": {},
   "outputs": [
    {
     "name": "stdout",
     "output_type": "stream",
     "text": [
      "ep: 0, taked: 15.809, train_loss: 0.25115921987181017, train_acc: 0.9245166666666667, test_loss: 0.153419107478112, test_acc: 0.9504\n",
      "ep: 1, taked: 15.216, train_loss: 0.10508307482294263, train_acc: 0.9677166666666667, test_loss: 0.12418330510845407, test_acc: 0.9619\n",
      "ep: 2, taked: 15.581, train_loss: 0.07366696313776551, train_acc: 0.9767333333333333, test_loss: 0.1205400757418829, test_acc: 0.963\n",
      "ep: 3, taked: 15.796, train_loss: 0.05851514028147497, train_acc: 0.9814666666666667, test_loss: 0.11481115016940749, test_acc: 0.9701\n",
      "ep: 4, taked: 15.415, train_loss: 0.04928975769397902, train_acc: 0.9838, test_loss: 0.10899295777126099, test_acc: 0.9719\n",
      "ep: 5, taked: 15.571, train_loss: 0.052350953335259506, train_acc: 0.9838666666666667, test_loss: 0.1586362271278631, test_acc: 0.9648\n",
      "ep: 6, taked: 17.223, train_loss: 0.05359427840696608, train_acc: 0.9839666666666667, test_loss: 0.12840138812025542, test_acc: 0.9706\n",
      "ep: 7, taked: 15.887, train_loss: 0.047459622297777816, train_acc: 0.9858666666666667, test_loss: 0.13972431930815218, test_acc: 0.9724\n",
      "ep: 8, taked: 16.990, train_loss: 0.04555131318642104, train_acc: 0.9866833333333334, test_loss: 0.1516210414150919, test_acc: 0.971\n",
      "ep: 9, taked: 16.681, train_loss: 0.038198016918861266, train_acc: 0.9887166666666667, test_loss: 0.16566555326717208, test_acc: 0.9713\n"
     ]
    }
   ],
   "source": [
    "trainer = torch.optim.Adam(model.parameters(), lr=.01)\n",
    "train_model()"
   ]
  },
  {
   "cell_type": "markdown",
   "id": "34469505",
   "metadata": {},
   "source": [
    "## Adding more layers"
   ]
  },
  {
   "cell_type": "code",
   "execution_count": 18,
   "id": "3ffae5a7",
   "metadata": {},
   "outputs": [],
   "source": [
    "model = torch.nn.Sequential(\n",
    "    torch.nn.Flatten(),\n",
    "    torch.nn.Linear(784, 512),\n",
    "    torch.nn.ReLU(),\n",
    "    torch.nn.Linear(512, 256),\n",
    "    torch.nn.ReLU(),\n",
    "    torch.nn.Linear(256, 128),\n",
    "    torch.nn.ReLU(),\n",
    "    torch.nn.Linear(128, 10)\n",
    ")"
   ]
  },
  {
   "cell_type": "code",
   "execution_count": 19,
   "id": "634c4348",
   "metadata": {},
   "outputs": [
    {
     "name": "stdout",
     "output_type": "stream",
     "text": [
      "ep: 0, taked: 18.982, train_loss: 0.32617686742797813, train_acc: 0.89895, test_loss: 0.17016005455516278, test_acc: 0.9499\n",
      "ep: 1, taked: 17.734, train_loss: 0.1267260323278606, train_acc: 0.9630666666666666, test_loss: 0.13147492075513584, test_acc: 0.9636\n",
      "ep: 2, taked: 18.193, train_loss: 0.09873220189771753, train_acc: 0.9714666666666667, test_loss: 0.13430968879838473, test_acc: 0.9652\n",
      "ep: 3, taked: 17.910, train_loss: 0.08459107848875067, train_acc: 0.9754333333333334, test_loss: 0.14651140395071707, test_acc: 0.9601\n",
      "ep: 4, taked: 16.558, train_loss: 0.07534584165748923, train_acc: 0.9785, test_loss: 0.3627998813055456, test_acc: 0.9442\n",
      "ep: 5, taked: 16.561, train_loss: 0.08313365718151661, train_acc: 0.9775166666666667, test_loss: 0.1357090719859116, test_acc: 0.9678\n",
      "ep: 6, taked: 19.245, train_loss: 0.06181825435660938, train_acc: 0.9823833333333334, test_loss: 0.14611405374016612, test_acc: 0.9709\n",
      "ep: 7, taked: 18.888, train_loss: 0.05798360816539919, train_acc: 0.9837666666666667, test_loss: 0.11812246949411928, test_acc: 0.9755\n",
      "ep: 8, taked: 18.991, train_loss: 0.058373873115101074, train_acc: 0.9839666666666667, test_loss: 0.13893788021669023, test_acc: 0.9715\n",
      "ep: 9, taked: 19.466, train_loss: 0.05622948427050513, train_acc: 0.9848, test_loss: 0.12609454157154687, test_acc: 0.9719\n"
     ]
    }
   ],
   "source": [
    "trainer = torch.optim.Adam(model.parameters(), lr=.01)\n",
    "train_model()"
   ]
  },
  {
   "cell_type": "markdown",
   "id": "f36e4f0d",
   "metadata": {},
   "source": [
    "## Batch Normalisation"
   ]
  },
  {
   "cell_type": "code",
   "execution_count": 20,
   "id": "7c9ed633",
   "metadata": {},
   "outputs": [],
   "source": [
    "model = torch.nn.Sequential(\n",
    "    torch.nn.Flatten(),\n",
    "    torch.nn.Linear(784, 512),\n",
    "    torch.nn.ReLU(),\n",
    "    torch.nn.BatchNorm1d(512),\n",
    "    torch.nn.Linear(512, 256),\n",
    "    torch.nn.ReLU(),\n",
    "    torch.nn.BatchNorm1d(256), \n",
    "    torch.nn.Linear(256, 128),\n",
    "    torch.nn.ReLU(),\n",
    "    torch.nn.BatchNorm1d(128),\n",
    "    torch.nn.Linear(128, 10)\n",
    ")"
   ]
  },
  {
   "cell_type": "code",
   "execution_count": 21,
   "id": "ca2a295a",
   "metadata": {},
   "outputs": [
    {
     "name": "stdout",
     "output_type": "stream",
     "text": [
      "ep: 0, taked: 19.253, train_loss: 0.19999790472236084, train_acc: 0.9384333333333333, test_loss: 0.14562059161253274, test_acc: 0.9531\n",
      "ep: 1, taked: 18.767, train_loss: 0.09916448968046523, train_acc: 0.9702, test_loss: 0.13282584360567853, test_acc: 0.9605\n",
      "ep: 2, taked: 19.840, train_loss: 0.070722065521206, train_acc: 0.9774, test_loss: 0.10620860806229757, test_acc: 0.9674\n",
      "ep: 3, taked: 19.221, train_loss: 0.05435452413685778, train_acc: 0.98255, test_loss: 0.10927800853096414, test_acc: 0.9668\n",
      "ep: 4, taked: 18.571, train_loss: 0.04388375098995389, train_acc: 0.9855333333333334, test_loss: 0.09133320614055265, test_acc: 0.9746\n",
      "ep: 5, taked: 19.482, train_loss: 0.034685879340890714, train_acc: 0.9885333333333334, test_loss: 0.09763758220651653, test_acc: 0.972\n",
      "ep: 6, taked: 18.830, train_loss: 0.03061423451798235, train_acc: 0.9898333333333333, test_loss: 0.11142587983704288, test_acc: 0.972\n",
      "ep: 7, taked: 17.356, train_loss: 0.029813203354678217, train_acc: 0.9896666666666667, test_loss: 0.0911332694489829, test_acc: 0.9768\n",
      "ep: 8, taked: 18.300, train_loss: 0.02321246042798095, train_acc: 0.9922833333333333, test_loss: 0.10716698793548858, test_acc: 0.9737\n",
      "ep: 9, taked: 18.313, train_loss: 0.021956279058693018, train_acc: 0.9923833333333333, test_loss: 0.09719607501947394, test_acc: 0.9748\n"
     ]
    }
   ],
   "source": [
    "trainer = torch.optim.Adam(model.parameters(), lr=.01)\n",
    "train_model()"
   ]
  },
  {
   "cell_type": "markdown",
   "id": "53f5ea3c",
   "metadata": {},
   "source": [
    "## Dropout"
   ]
  },
  {
   "cell_type": "code",
   "execution_count": 22,
   "id": "131162a0",
   "metadata": {},
   "outputs": [],
   "source": [
    "model = torch.nn.Sequential(\n",
    "    torch.nn.Flatten(),\n",
    "    torch.nn.Linear(784, 2560),\n",
    "    torch.nn.ReLU(),\n",
    "    torch.nn.Dropout(0.5),\n",
    "    torch.nn.Linear(2560, 1280),\n",
    "    torch.nn.ReLU(),\n",
    "    torch.nn.Dropout(0.5), \n",
    "    torch.nn.Linear(1280, 640),\n",
    "    torch.nn.ReLU(),\n",
    "    torch.nn.Dropout(0.5),\n",
    "    torch.nn.Linear(640, 10)\n",
    ")"
   ]
  },
  {
   "cell_type": "code",
   "execution_count": 23,
   "id": "21bd11a6",
   "metadata": {},
   "outputs": [
    {
     "name": "stdout",
     "output_type": "stream",
     "text": [
      "ep: 0, taked: 60.655, train_loss: 0.7759189718581261, train_acc: 0.78635, test_loss: 0.30003036027774216, test_acc: 0.9209\n",
      "ep: 1, taked: 63.286, train_loss: 0.6266954021250948, train_acc: 0.8402333333333334, test_loss: 0.3368370419368148, test_acc: 0.9245\n",
      "ep: 2, taked: 61.792, train_loss: 0.6503023340346965, train_acc: 0.8453833333333334, test_loss: 0.32245812825858594, test_acc: 0.9261\n",
      "ep: 3, taked: 64.860, train_loss: 0.6883126719200865, train_acc: 0.8360833333333333, test_loss: 0.3558458704035729, test_acc: 0.928\n",
      "ep: 4, taked: 56.949, train_loss: 0.6989276050253117, train_acc: 0.8302333333333334, test_loss: 0.33052830332890154, test_acc: 0.9181\n",
      "ep: 5, taked: 54.878, train_loss: 0.7217641126602254, train_acc: 0.82115, test_loss: 0.39036161210387943, test_acc: 0.9209\n",
      "ep: 6, taked: 53.778, train_loss: 0.7429932450994532, train_acc: 0.81405, test_loss: 0.36661897506564856, test_acc: 0.9185\n",
      "ep: 7, taked: 53.646, train_loss: 0.7445424404550106, train_acc: 0.81235, test_loss: 0.3700038719922304, test_acc: 0.9207\n",
      "ep: 8, taked: 69.730, train_loss: 0.7797298289359884, train_acc: 0.8091, test_loss: 0.42534499019384386, test_acc: 0.9107\n",
      "ep: 9, taked: 60.311, train_loss: 0.8024035373900799, train_acc: 0.8016333333333333, test_loss: 0.3581334179267287, test_acc: 0.9156\n"
     ]
    }
   ],
   "source": [
    "trainer = torch.optim.Adam(model.parameters(), lr=.01)\n",
    "train_model()"
   ]
  },
  {
   "cell_type": "code",
   "execution_count": null,
   "id": "5555ba49",
   "metadata": {},
   "outputs": [],
   "source": []
  }
 ],
 "metadata": {
  "kernelspec": {
   "display_name": "pytorch_kernel",
   "language": "python",
   "name": "pytorch_kernel"
  },
  "language_info": {
   "codemirror_mode": {
    "name": "ipython",
    "version": 3
   },
   "file_extension": ".py",
   "mimetype": "text/x-python",
   "name": "python",
   "nbconvert_exporter": "python",
   "pygments_lexer": "ipython3",
   "version": "3.10.16"
  }
 },
 "nbformat": 4,
 "nbformat_minor": 5
}
