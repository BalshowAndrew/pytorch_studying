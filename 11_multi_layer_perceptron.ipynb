{
 "cells": [
  {
   "cell_type": "markdown",
   "id": "6edcfcf3",
   "metadata": {},
   "source": [
    "# Multi-Layer Perceptron"
   ]
  },
  {
   "cell_type": "code",
   "execution_count": 1,
   "id": "dd2fd223",
   "metadata": {},
   "outputs": [],
   "source": [
    "import matplotlib.pyplot as plt\n",
    "%matplotlib inline"
   ]
  },
  {
   "cell_type": "code",
   "execution_count": 3,
   "id": "dcfe042d",
   "metadata": {},
   "outputs": [],
   "source": [
    "import torch\n",
    "import torchvision as tv\n",
    "import numpy as np\n",
    "import pandas as pd\n",
    "import time"
   ]
  },
  {
   "cell_type": "markdown",
   "id": "2e507b23",
   "metadata": {},
   "source": [
    "## Datas"
   ]
  },
  {
   "cell_type": "code",
   "execution_count": 8,
   "id": "c014075b",
   "metadata": {},
   "outputs": [],
   "source": [
    "BATCH_SIZE = 256"
   ]
  },
  {
   "cell_type": "code",
   "execution_count": 5,
   "id": "7e3d8f35",
   "metadata": {},
   "outputs": [],
   "source": [
    "# download MNIST datas\n",
    "train_dataset = tv.datasets.MNIST('.', train=True, transform=tv.transforms.ToTensor(), download=True)\n",
    "test_dataset = tv.datasets.MNIST('.', train=False, transform=tv.transforms.ToTensor(), download=True)"
   ]
  },
  {
   "cell_type": "code",
   "execution_count": 6,
   "id": "371e0c52",
   "metadata": {},
   "outputs": [
    {
     "data": {
      "text/plain": [
       "Dataset MNIST\n",
       "    Number of datapoints: 60000\n",
       "    Root location: .\n",
       "    Split: Train\n",
       "    StandardTransform\n",
       "Transform: ToTensor()"
      ]
     },
     "execution_count": 6,
     "metadata": {},
     "output_type": "execute_result"
    }
   ],
   "source": [
    "train_dataset"
   ]
  },
  {
   "cell_type": "code",
   "execution_count": 7,
   "id": "8ccb9215",
   "metadata": {},
   "outputs": [
    {
     "data": {
      "text/plain": [
       "Dataset MNIST\n",
       "    Number of datapoints: 10000\n",
       "    Root location: .\n",
       "    Split: Test\n",
       "    StandardTransform\n",
       "Transform: ToTensor()"
      ]
     },
     "execution_count": 7,
     "metadata": {},
     "output_type": "execute_result"
    }
   ],
   "source": [
    "test_dataset"
   ]
  },
  {
   "cell_type": "code",
   "execution_count": 9,
   "id": "70c1b054",
   "metadata": {},
   "outputs": [],
   "source": [
    "train = torch.utils.data.DataLoader(train_dataset, batch_size=BATCH_SIZE)\n",
    "test = torch.utils.data.DataLoader(test_dataset, batch_size=BATCH_SIZE)"
   ]
  },
  {
   "cell_type": "code",
   "execution_count": 10,
   "id": "71f72761",
   "metadata": {},
   "outputs": [
    {
     "data": {
      "text/plain": [
       "<torch.utils.data.dataloader.DataLoader at 0x7f2a57de3850>"
      ]
     },
     "execution_count": 10,
     "metadata": {},
     "output_type": "execute_result"
    }
   ],
   "source": [
    "train"
   ]
  },
  {
   "cell_type": "code",
   "execution_count": 11,
   "id": "43634668",
   "metadata": {},
   "outputs": [
    {
     "data": {
      "text/plain": [
       "<torch.utils.data.dataloader.DataLoader at 0x7f2a57de19c0>"
      ]
     },
     "execution_count": 11,
     "metadata": {},
     "output_type": "execute_result"
    }
   ],
   "source": [
    "test"
   ]
  },
  {
   "cell_type": "code",
   "execution_count": 13,
   "id": "f07ee297",
   "metadata": {},
   "outputs": [
    {
     "data": {
      "text/plain": [
       "torch.Size([1, 28, 28])"
      ]
     },
     "execution_count": 13,
     "metadata": {},
     "output_type": "execute_result"
    }
   ],
   "source": [
    "train_dataset[0][0].shape"
   ]
  },
  {
   "cell_type": "markdown",
   "id": "6ab921fb",
   "metadata": {},
   "source": [
    "## Model SGD"
   ]
  },
  {
   "cell_type": "code",
   "execution_count": 14,
   "id": "039061cb",
   "metadata": {},
   "outputs": [],
   "source": [
    "model = torch.nn.Sequential(\n",
    "    torch.nn.Flatten(),\n",
    "    torch.nn.Linear(784, 256),\n",
    "    torch.nn.ReLU(),\n",
    "    torch.nn.Linear(256, 10)\n",
    ")"
   ]
  },
  {
   "cell_type": "code",
   "execution_count": 15,
   "id": "226e0011",
   "metadata": {},
   "outputs": [
    {
     "data": {
      "text/plain": [
       "Sequential(\n",
       "  (0): Flatten(start_dim=1, end_dim=-1)\n",
       "  (1): Linear(in_features=784, out_features=256, bias=True)\n",
       "  (2): ReLU()\n",
       "  (3): Linear(in_features=256, out_features=10, bias=True)\n",
       ")"
      ]
     },
     "execution_count": 15,
     "metadata": {},
     "output_type": "execute_result"
    }
   ],
   "source": [
    "model"
   ]
  },
  {
   "cell_type": "code",
   "execution_count": 16,
   "id": "4d8b6526",
   "metadata": {},
   "outputs": [],
   "source": [
    "loss = torch.nn.CrossEntropyLoss()\n",
    "trainer = torch.optim.SGD(model.parameters(), lr=.01)\n",
    "num_epochs = 10"
   ]
  },
  {
   "cell_type": "markdown",
   "id": "7df7a57a",
   "metadata": {},
   "source": [
    "## Train Model"
   ]
  },
  {
   "cell_type": "code",
   "execution_count": 17,
   "id": "0166a7d7",
   "metadata": {},
   "outputs": [],
   "source": [
    "def train_model():\n",
    "    for ep in range(num_epochs):\n",
    "        train_iters, train_passed = 0, 0\n",
    "        train_loss, train_acc = 0., 0. \n",
    "        start=time.time()\n",
    "\n",
    "        model.train()\n",
    "        for X, y in train:\n",
    "            trainer.zero_grad()\n",
    "            y_pred = model(X)\n",
    "            l = loss(y_pred, y)\n",
    "            l.backward()\n",
    "            trainer.step()\n",
    "            train_loss += l.item()\n",
    "            train_acc += (y_pred.argmax(dim=1) == y).sum().item()\n",
    "            train_iters += 1\n",
    "            train_passed += len(X)\n",
    "\n",
    "        test_iters, test_passed = 0, 0\n",
    "        test_loss, test_acc = 0., 0.\n",
    "        model.eval()\n",
    "        for X, y in test:\n",
    "            y_pred = model(X)\n",
    "            l = loss(y_pred, y)\n",
    "            test_loss += l.item()\n",
    "            test_acc += (y_pred.argmax(dim=1) == y).sum().item()\n",
    "            test_iters += 1\n",
    "            test_passed += len(X)\n",
    "\n",
    "        print(\"ep: {}, taked: {:.3f}, train_loss: {}, train_acc: {}, test_loss: {}, test_acc: {}\".format(\n",
    "            ep, time.time() - start, train_loss / train_iters, train_acc / train_passed,\n",
    "            test_loss / test_iters, test_acc / test_passed\n",
    "        ))            "
   ]
  },
  {
   "cell_type": "code",
   "execution_count": 18,
   "id": "b355184b",
   "metadata": {},
   "outputs": [
    {
     "name": "stdout",
     "output_type": "stream",
     "text": [
      "ep: 0, taked: 14.711, train_loss: 2.0447713253345894, train_acc: 0.5564666666666667, test_loss: 1.6875344544649125, test_acc: 0.7272\n",
      "ep: 1, taked: 14.259, train_loss: 1.3392624091594778, train_acc: 0.7661166666666667, test_loss: 1.0099389925599098, test_acc: 0.815\n",
      "ep: 2, taked: 15.268, train_loss: 0.8684946063985216, train_acc: 0.8232666666666667, test_loss: 0.7149699538946152, test_acc: 0.8473\n",
      "ep: 3, taked: 14.432, train_loss: 0.6667184118260728, train_acc: 0.8484333333333334, test_loss: 0.5808485291898251, test_acc: 0.8671\n",
      "ep: 4, taked: 14.437, train_loss: 0.5652414571097557, train_acc: 0.8633, test_loss: 0.5059726864099503, test_acc: 0.8768\n",
      "ep: 5, taked: 14.125, train_loss: 0.5046328397507364, train_acc: 0.87315, test_loss: 0.45837222747504713, test_acc: 0.8837\n",
      "ep: 6, taked: 14.071, train_loss: 0.4643702208361727, train_acc: 0.8806833333333334, test_loss: 0.42556196376681327, test_acc: 0.8889\n",
      "ep: 7, taked: 14.642, train_loss: 0.43568150629388525, train_acc: 0.8850666666666667, test_loss: 0.4016159221529961, test_acc: 0.8931\n",
      "ep: 8, taked: 14.585, train_loss: 0.4141484445713936, train_acc: 0.8883833333333333, test_loss: 0.383345165848732, test_acc: 0.8974\n",
      "ep: 9, taked: 14.797, train_loss: 0.3973078641168615, train_acc: 0.8914833333333333, test_loss: 0.36889618281275033, test_acc: 0.8992\n"
     ]
    }
   ],
   "source": [
    "train_model()"
   ]
  },
  {
   "cell_type": "markdown",
   "id": "0571f468",
   "metadata": {},
   "source": [
    "## Model Adam"
   ]
  },
  {
   "cell_type": "code",
   "execution_count": 19,
   "id": "cc3346b6",
   "metadata": {},
   "outputs": [],
   "source": [
    "model = torch.nn.Sequential(\n",
    "    torch.nn.Flatten(),\n",
    "    torch.nn.Linear(784, 256),\n",
    "    torch.nn.ReLU(),\n",
    "    torch.nn.Linear(256, 10)\n",
    ")"
   ]
  },
  {
   "cell_type": "code",
   "execution_count": 20,
   "id": "1f941d89",
   "metadata": {},
   "outputs": [
    {
     "name": "stdout",
     "output_type": "stream",
     "text": [
      "ep: 0, taked: 9.516, train_loss: 0.25391602437705435, train_acc: 0.9229166666666667, test_loss: 0.15667263865470887, test_acc: 0.9482\n",
      "ep: 1, taked: 9.098, train_loss: 0.10370491938269202, train_acc: 0.9677833333333333, test_loss: 0.12810333910747432, test_acc: 0.9632\n",
      "ep: 2, taked: 9.704, train_loss: 0.0734646969316329, train_acc: 0.97665, test_loss: 0.10285195446922443, test_acc: 0.9688\n",
      "ep: 3, taked: 9.026, train_loss: 0.05870656998867684, train_acc: 0.9810833333333333, test_loss: 0.1163265920818958, test_acc: 0.9685\n",
      "ep: 4, taked: 9.872, train_loss: 0.05028912071138621, train_acc: 0.9841, test_loss: 0.11802914545114618, test_acc: 0.9715\n",
      "ep: 5, taked: 9.977, train_loss: 0.04836315082465398, train_acc: 0.9844, test_loss: 0.16499243976468278, test_acc: 0.9653\n",
      "ep: 6, taked: 10.043, train_loss: 0.04699395415224531, train_acc: 0.9848333333333333, test_loss: 0.12980500765770558, test_acc: 0.9693\n",
      "ep: 7, taked: 10.206, train_loss: 0.04187850180636853, train_acc: 0.9866833333333334, test_loss: 0.14013879847698263, test_acc: 0.9718\n",
      "ep: 8, taked: 10.100, train_loss: 0.04580894758221396, train_acc: 0.9856, test_loss: 0.15285458222097076, test_acc: 0.9701\n",
      "ep: 9, taked: 10.054, train_loss: 0.03995630959534344, train_acc: 0.9882166666666666, test_loss: 0.15818329740063747, test_acc: 0.9725\n"
     ]
    }
   ],
   "source": [
    "trainer = torch.optim.Adam(model.parameters(), lr=.01)\n",
    "train_model()"
   ]
  },
  {
   "cell_type": "markdown",
   "id": "34469505",
   "metadata": {},
   "source": [
    "## Adding more layers"
   ]
  },
  {
   "cell_type": "code",
   "execution_count": 21,
   "id": "3ffae5a7",
   "metadata": {},
   "outputs": [],
   "source": [
    "model = torch.nn.Sequential(\n",
    "    torch.nn.Flatten(),\n",
    "    torch.nn.Linear(784, 512),\n",
    "    torch.nn.ReLU(),\n",
    "    torch.nn.Linear(512, 256),\n",
    "    torch.nn.ReLU(),\n",
    "    torch.nn.Linear(256, 128),\n",
    "    torch.nn.ReLU(),\n",
    "    torch.nn.Linear(128, 10)\n",
    ")"
   ]
  },
  {
   "cell_type": "code",
   "execution_count": 22,
   "id": "634c4348",
   "metadata": {},
   "outputs": [
    {
     "name": "stdout",
     "output_type": "stream",
     "text": [
      "ep: 0, taked: 13.081, train_loss: 0.3180074578111476, train_acc: 0.9014666666666666, test_loss: 0.223648487101309, test_acc: 0.9338\n",
      "ep: 1, taked: 13.382, train_loss: 0.12756827155801845, train_acc: 0.9618, test_loss: 0.15645248654764146, test_acc: 0.9563\n",
      "ep: 2, taked: 11.633, train_loss: 0.10261478880420327, train_acc: 0.9704333333333334, test_loss: 0.13927648604731074, test_acc: 0.9628\n",
      "ep: 3, taked: 11.983, train_loss: 0.08527089793710632, train_acc: 0.9751666666666666, test_loss: 0.16636404730124923, test_acc: 0.9622\n",
      "ep: 4, taked: 12.557, train_loss: 0.0720702709749024, train_acc: 0.9792333333333333, test_loss: 0.14123587989452063, test_acc: 0.9684\n",
      "ep: 5, taked: 12.738, train_loss: 0.06669331000761149, train_acc: 0.9816, test_loss: 0.11939454521984771, test_acc: 0.9703\n",
      "ep: 6, taked: 13.085, train_loss: 0.06311873052606082, train_acc: 0.9821833333333333, test_loss: 0.1559115111949268, test_acc: 0.9689\n",
      "ep: 7, taked: 13.213, train_loss: 0.07111477443373743, train_acc: 0.9811333333333333, test_loss: 0.13604732312087436, test_acc: 0.9711\n",
      "ep: 8, taked: 13.069, train_loss: 0.060900633390299344, train_acc: 0.9835666666666667, test_loss: 0.14415489859366062, test_acc: 0.9705\n",
      "ep: 9, taked: 12.791, train_loss: 0.0631716285559765, train_acc: 0.9834166666666667, test_loss: 0.12956391889729274, test_acc: 0.9751\n"
     ]
    }
   ],
   "source": [
    "trainer = torch.optim.Adam(model.parameters(), lr=.01)\n",
    "train_model()"
   ]
  },
  {
   "cell_type": "markdown",
   "id": "f36e4f0d",
   "metadata": {},
   "source": [
    "## Batch Normalisation"
   ]
  },
  {
   "cell_type": "code",
   "execution_count": 23,
   "id": "7c9ed633",
   "metadata": {},
   "outputs": [],
   "source": [
    "model = torch.nn.Sequential(\n",
    "    torch.nn.Flatten(),\n",
    "    torch.nn.Linear(784, 512),\n",
    "    torch.nn.ReLU(),\n",
    "    torch.nn.BatchNorm1d(512),\n",
    "    torch.nn.Linear(512, 256),\n",
    "    torch.nn.ReLU(),\n",
    "    torch.nn.BatchNorm1d(256), \n",
    "    torch.nn.Linear(256, 128),\n",
    "    torch.nn.ReLU(),\n",
    "    torch.nn.BatchNorm1d(128),\n",
    "    torch.nn.Linear(128, 10)\n",
    ")"
   ]
  },
  {
   "cell_type": "code",
   "execution_count": 24,
   "id": "ca2a295a",
   "metadata": {},
   "outputs": [
    {
     "name": "stdout",
     "output_type": "stream",
     "text": [
      "ep: 0, taked: 11.705, train_loss: 0.20078014101674582, train_acc: 0.9384166666666667, test_loss: 0.15581530092749746, test_acc: 0.9511\n",
      "ep: 1, taked: 13.880, train_loss: 0.10084698551948718, train_acc: 0.9689333333333333, test_loss: 0.1177217838994693, test_acc: 0.9637\n",
      "ep: 2, taked: 12.637, train_loss: 0.06977319945085873, train_acc: 0.9782666666666666, test_loss: 0.11669842848787085, test_acc: 0.9652\n",
      "ep: 3, taked: 12.383, train_loss: 0.0513533908318966, train_acc: 0.98375, test_loss: 0.0968886579736136, test_acc: 0.9713\n",
      "ep: 4, taked: 12.645, train_loss: 0.04382366273908856, train_acc: 0.9857, test_loss: 0.10862712002708577, test_acc: 0.9706\n",
      "ep: 5, taked: 12.978, train_loss: 0.0368586354527345, train_acc: 0.9878833333333333, test_loss: 0.15484228722343688, test_acc: 0.9615\n",
      "ep: 6, taked: 13.075, train_loss: 0.031262484824958636, train_acc: 0.9900333333333333, test_loss: 0.10331450342437165, test_acc: 0.9714\n",
      "ep: 7, taked: 13.187, train_loss: 0.028511889515187037, train_acc: 0.9900666666666667, test_loss: 0.11980546103441156, test_acc: 0.9716\n",
      "ep: 8, taked: 13.063, train_loss: 0.025943375984949873, train_acc: 0.9916333333333334, test_loss: 0.0983204818611739, test_acc: 0.9771\n",
      "ep: 9, taked: 12.871, train_loss: 0.019046729405291694, train_acc: 0.9932333333333333, test_loss: 0.1393983105148891, test_acc: 0.9697\n"
     ]
    }
   ],
   "source": [
    "trainer = torch.optim.Adam(model.parameters(), lr=.01)\n",
    "train_model()"
   ]
  },
  {
   "cell_type": "markdown",
   "id": "53f5ea3c",
   "metadata": {},
   "source": [
    "## Dropout"
   ]
  },
  {
   "cell_type": "code",
   "execution_count": 29,
   "id": "131162a0",
   "metadata": {},
   "outputs": [],
   "source": [
    "model = torch.nn.Sequential(\n",
    "    torch.nn.Flatten(),\n",
    "    torch.nn.Linear(784, 2560),\n",
    "    torch.nn.ReLU(),\n",
    "    torch.nn.Dropout(0.5),\n",
    "    torch.nn.Linear(2560, 1280),\n",
    "    torch.nn.ReLU(),\n",
    "    torch.nn.Dropout(0.5), \n",
    "    torch.nn.Linear(1280, 640),\n",
    "    torch.nn.ReLU(),\n",
    "    torch.nn.Dropout(0.5),\n",
    "    torch.nn.Linear(640, 10)\n",
    ")"
   ]
  },
  {
   "cell_type": "code",
   "execution_count": 30,
   "id": "21bd11a6",
   "metadata": {},
   "outputs": [
    {
     "name": "stdout",
     "output_type": "stream",
     "text": [
      "ep: 0, taked: 53.263, train_loss: 0.9490649714114818, train_acc: 0.7283666666666667, test_loss: 0.3883506150916219, test_acc: 0.9078\n",
      "ep: 1, taked: 52.852, train_loss: 0.6872186461661725, train_acc: 0.8168166666666666, test_loss: 0.3824665263295174, test_acc: 0.9185\n",
      "ep: 2, taked: 52.955, train_loss: 0.70492971095633, train_acc: 0.8150666666666667, test_loss: 0.36543120313435795, test_acc: 0.9201\n",
      "ep: 3, taked: 54.947, train_loss: 0.7051444132277306, train_acc: 0.81755, test_loss: 0.37834984697401525, test_acc: 0.9165\n",
      "ep: 4, taked: 54.543, train_loss: 0.7429995694059006, train_acc: 0.8094, test_loss: 0.3896180786192417, test_acc: 0.9192\n",
      "ep: 5, taked: 50.177, train_loss: 0.7311791691374272, train_acc: 0.8089, test_loss: 0.3854216694831848, test_acc: 0.9158\n",
      "ep: 6, taked: 47.639, train_loss: 0.7727091439226841, train_acc: 0.7993833333333333, test_loss: 0.40638332851231096, test_acc: 0.9132\n",
      "ep: 7, taked: 44.999, train_loss: 0.8170584922141217, train_acc: 0.7877166666666666, test_loss: 0.44148282408714296, test_acc: 0.901\n",
      "ep: 8, taked: 37.960, train_loss: 0.7885157900921842, train_acc: 0.7918333333333333, test_loss: 0.3928885295987129, test_acc: 0.9147\n",
      "ep: 9, taked: 38.015, train_loss: 0.7531847074944922, train_acc: 0.8054166666666667, test_loss: 0.4045090151950717, test_acc: 0.9201\n"
     ]
    }
   ],
   "source": [
    "trainer = torch.optim.Adam(model.parameters(), lr=.01)\n",
    "train_model()"
   ]
  },
  {
   "cell_type": "code",
   "execution_count": null,
   "id": "5555ba49",
   "metadata": {},
   "outputs": [],
   "source": []
  }
 ],
 "metadata": {
  "kernelspec": {
   "display_name": ".venv",
   "language": "python",
   "name": "python3"
  },
  "language_info": {
   "codemirror_mode": {
    "name": "ipython",
    "version": 3
   },
   "file_extension": ".py",
   "mimetype": "text/x-python",
   "name": "python",
   "nbconvert_exporter": "python",
   "pygments_lexer": "ipython3",
   "version": "3.10.16"
  }
 },
 "nbformat": 4,
 "nbformat_minor": 5
}
